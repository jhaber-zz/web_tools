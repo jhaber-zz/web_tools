{
 "cells": [
  {
   "cell_type": "markdown",
   "metadata": {},
   "source": [
    "## Learning Web Scraping with Beautiful Soup"
   ]
  },
  {
   "cell_type": "code",
   "execution_count": 21,
   "metadata": {
    "collapsed": false
   },
   "outputs": [],
   "source": [
    "#import neccessary package\n",
    "from bs4 import BeautifulSoup\n",
    "import urllib\n",
    "from urllib.request import urlopen"
   ]
  },
  {
   "cell_type": "code",
   "execution_count": 38,
   "metadata": {
    "collapsed": false
   },
   "outputs": [
    {
     "name": "stdout",
     "output_type": "stream",
     "text": [
      "b'<!doctype html>\\n<!--[if lt IE 7]>   <html class=\"no-js ie6 lt-ie7 lt-ie8 lt-ie9\">   <![endif]-->\\n<!--[if IE 7]>      <html class=\"no-js ie7 lt-ie8 lt-ie9\">          <![endif]-->\\n<!--[if IE 8]>      <html class=\"no-js ie8 lt-ie9\">                 <![endif]-->\\n<!--[if gt IE 8]><!--><html class=\"no-js\" lang=\"en\" dir=\"ltr\">  <!--<![endif]-->\\n\\n<head>\\n    <meta charset=\"utf-8\">\\n    <meta http-equiv=\"X-UA-Compatible\" content=\"IE=edge\">\\n\\n    <link rel=\"prefetch\" href=\"//ajax.googleapis.com/ajax/libs/jquery/1.8.2/jquery.min.js\">\\n\\n    <meta name=\"application-name\" content=\"Python.org\">\\n    <meta name=\"msapplication-tooltip\" content=\"The official home of the Python Programming Language\">\\n    <meta name=\"apple-mobile-web-app-title\" content=\"Python.org\">\\n    <meta name=\"apple-mobile-web-app-capable\" content=\"yes\">\\n    <meta name=\"apple-mobile-web-app-status-bar-style\" content=\"black\">\\n\\n    <meta name=\"viewport\" content=\"width=device-width, initial-scale=1.0\">\\n    <meta name=\"HandheldFriendly\" conte'\n",
      "b'<!DOCTYPE html>\\n<html lang=\"en\">\\n\\n    <head>\\n    <meta charset=\"utf-8\">\\n    <meta http-equiv=\"X-UA-Compatible\" content=\"IE=edge,chrome=1\">\\n    \\n    <meta name=\"citation_title\" content=\"Intro to Beautiful Soup\" />\\r\\n\\r\\n<meta name=\"citation_author\" content=\"Jeri Wieringa\" />\\r\\n\\r\\n<meta name=\"citation_publication_date\" content=\"2012-12-30\" />\\r\\n<meta name=\"citation_journal_title\" content=\"Programming Historian\" />\\r\\n<meta name=\"citation_public_url\" content=\"http://programminghistorian.org/lessons/intro-to-beautiful-soup\" />\\r\\n\\n\\n    <!-- Mobile viewport optimized: h5bp.com/viewport -->\\n    <meta name=\"viewport\" content=\"width=device-width\">\\n    \\n    <!--Font awesome CDN -->\\n    <link href=\"//maxcdn.bootstrapcdn.com/font-awesome/4.1.0/css/font-awesome.min.css\" rel=\"stylesheet\">\\n\\n    <link href=\\'http://fonts.googleapis.com/css?family=Lato:300,400,700|Crete+Round\\' rel=\\'stylesheet\\' type=\\'text/css\\'>\\n    <link href=\"/css/style.css\" rel=\"stylesheet\">\\n    <link rel=\"stylesheet\" href=\"/css/github.css\">\\n  '\n"
     ]
    }
   ],
   "source": [
    "\n",
    "f = urlopen('http://www.python.org/')\n",
    "r = urlopen('http://programminghistorian.org/lessons/intro-to-beautiful-soup')\n",
    "print(f.read(1000))\n",
    "print(r.read(1000))"
   ]
  },
  {
   "cell_type": "markdown",
   "metadata": {},
   "source": [
    "### Introduction & Basic"
   ]
  },
  {
   "cell_type": "code",
   "execution_count": 39,
   "metadata": {
    "collapsed": false
   },
   "outputs": [
    {
     "name": "stdout",
     "output_type": "stream",
     "text": [
      "<class 'bs4.BeautifulSoup'>\n"
     ]
    }
   ],
   "source": [
    "#creating a Beautiful Soup object with the BeautifulSoup function\n",
    "# r = urlopen('http://www.aflcio.org/Legislation-and-Politics/Legislative-Alerts').read()\n",
    "soup = BeautifulSoup(r)\n",
    "print(type(soup))"
   ]
  },
  {
   "cell_type": "code",
   "execution_count": 40,
   "metadata": {
    "collapsed": false
   },
   "outputs": [
    {
     "name": "stdout",
     "output_type": "stream",
     "text": [
      "<html>\n",
      " <head>\n",
      "  <link href=\"/feed.xml\" rel=\"alternate\" type=\"application/atom+xml\"/>\n",
      "  <title>\n",
      "   Intro to Beautiful Soup | Programming Historian\n",
      "  </title>\n",
      "  <script src=\"http://code.jquery.com/jquery-latest.min.js\" type=\"text/javascript\">\n",
      "  </script>\n",
      "  <script src=\"/js/ui.js\" type=\"text/javascript\">\n",
      "  </script>\n",
      "  <script src=\"/js/ext_links.js\" type=\"text/javascript\">\n",
      "  </script>\n",
      "  <script src=\"/js/header_links.js\" type=\"text/javascript\">\n",
      "  </script>\n",
      "  <script src=\"http://cdn.mathjax.org/mathjax/latest/MathJax.js?config=TeX-AMS-MML_HTMLorMML\" type=\"text/javascript\">\n",
      "  </script>\n",
      "  <script>\n",
      "   $(document).ready(function(){\n",
      "        $('.slide-trigger').collapsable();\n",
      "      });\n",
      "  </script>\n",
      "  <script type=\"text/javascript\">\n",
      "   var _gaq = _gaq || [];\n",
      "  _gaq.push(['_setAccount', 'UA-2752866-8']);\n",
      "  _gaq.push(['_trackPageview']);\n",
      "\n",
      "  (function() {\n",
      "    var ga = document.createElement('script'); ga.type = 'text/javascript'; ga.async = true;\n",
      "    ga.src = ('https:' == document.location.protocol ? 'https://ssl' : 'http://www') + '.google-analytics.com/ga.js';\n",
      "    var s = document.getElementsByTagName('script')[0]; s.parentNode.insertBefore(ga, s);\n",
      "  })();\n",
      "  </script>\n",
      " </head>\n",
      " <body>\n",
      "  <header role=\"banner\">\n",
      "   <h1>\n",
      "    <a href=\"http://programminghistorian.org\">\n",
      "     The Programming Historian\n",
      "    </a>\n",
      "   </h1>\n",
      "   <div class=\"additional\">\n",
      "    <ul class=\"additional\" id=\"menu-main-menu\">\n",
      "     <li class=\"menu-item\">\n",
      "      <a href=\"/\">\n",
      "       About\n",
      "      </a>\n",
      "     </li>\n",
      "     <li class=\"menu-item\">\n",
      "      <a href=\"/lessons\">\n",
      "       Lessons\n",
      "      </a>\n",
      "     </li>\n",
      "     <li class=\"menu-item\">\n",
      "      <a href=\"/contribute\">\n",
      "       Contribute\n",
      "      </a>\n",
      "     </li>\n",
      "     <li class=\"menu-item\">\n",
      "      <a href=\"/project-team\">\n",
      "       Project Team\n",
      "      </a>\n",
      "     </li>\n",
      "     <li class=\"menu-item\">\n",
      "      <a href=\"/research\">\n",
      "       Research\n",
      "      </a>\n",
      "     </li>\n",
      "     <li class=\"menu-item\">\n",
      "      <a href=\"/blog\">\n",
      "       Blog\n",
      "      </a>\n",
      "     </li>\n",
      "    </ul>\n",
      "   </div>\n",
      "  </header>\n",
      "  <div role=\"main\">\n",
      "   <article>\n",
      "    <header>\n",
      "     <p class=\"kicker\">\n",
      "      2012-12-30\n",
      "     </p>\n",
      "     <h1>\n",
      "      <a href=\"http://programminghistorian.org/lessons/intro-to-beautiful-soup\">\n",
      "       Intro to Beautiful Soup\n",
      "      </a>\n",
      "     </h1>\n",
      "     <p class=\"byline\">\n",
      "      By \n",
      "\n",
      "      Jeri Wieringa\n",
      "     </p>\n",
      "     <ul class=\"credits\">\n",
      "      Reviewed by\n",
      "      <!-- No reviewers -->\n",
      "      <br/>\n",
      "      <br/>\n",
      "      <br/>\n",
      "      Recommended for \n",
      "        \n",
      "        Intermediate\n",
      "        \n",
      "   Users\n",
      "     </ul>\n",
      "    </header>\n",
      "    <div class=\"content\">\n",
      "     <p>\n",
      "      Version: Python 2.7.2 and BeautifulSoup 4.\n",
      "     </p>\n",
      "     <p>\n",
      "      This tutorial assumes basic knowledge of HTML, CSS, and the\n",
      "      <a href=\"https://en.wikipedia.org/wiki/Document_Object_Model\">\n",
      "       Document\n",
      "Object Model\n",
      "      </a>\n",
      "      . It also assumes some knowledge of Python. For a more basic\n",
      "introduction to Python, see\n",
      "      <a href=\"../lessons/working-with-text-files\">\n",
      "       Working with Text Files\n",
      "      </a>\n",
      "      .\n",
      "     </p>\n",
      "     <p>\n",
      "      Most of the work is done in the terminal. For an introduction to using\n",
      "the terminal, see the Scholar’s Lab\n",
      "      <a href=\"http://praxis.scholarslab.org/scratchpad/bash/\">\n",
      "       Command Line Bootcamp\n",
      "      </a>\n",
      "      tutorial.\n",
      "     </p>\n",
      "     <h2 id=\"what-is-beautiful-soup\">\n",
      "      What is Beautiful Soup?\n",
      "     </h2>\n",
      "     <h3 id=\"overview\">\n",
      "      Overview\n",
      "     </h3>\n",
      "     <p>\n",
      "      “You didn’t write that awful page. You’re just trying to get some data\n",
      "out of it. Beautiful Soup is here to help.” (\n",
      "      <a href=\"http://www.crummy.com/software/BeautifulSoup/bs4/doc/\">\n",
      "       Opening lines of Beautiful\n",
      "Soup\n",
      "      </a>\n",
      "      )\n",
      "     </p>\n",
      "     <p>\n",
      "      Beautiful Soup is a Python library for getting data out of HTML, XML,\n",
      "and other markup languages. Say you’ve found some webpages that display\n",
      "data relevant to your research, such as date or address information, but\n",
      "that do not provide any way of downloading the data directly. Beautiful\n",
      "Soup helps you pull particular content from a webpage, remove the HTML\n",
      "markup, and save the information. It is a tool for web scraping that\n",
      "helps you clean up and parse the documents you have pulled down from the\n",
      "web.\n",
      "     </p>\n",
      "     <p>\n",
      "      The\n",
      "      <a href=\"http://www.crummy.com/software/BeautifulSoup/bs4/doc/\">\n",
      "       Beautiful Soup documentation\n",
      "      </a>\n",
      "      will\n",
      "give you a sense of variety of things that the Beautiful Soup library\n",
      "will help with, from isolating titles and links, to extracting all of\n",
      "the text from the html tags, to altering the HTML within the document\n",
      "you’re working with.\n",
      "     </p>\n",
      "     <h3 id=\"installing-beautiful-soup\">\n",
      "      Installing Beautiful Soup\n",
      "     </h3>\n",
      "     <p>\n",
      "      Installing Beautiful Soup is easiest if you have pip or another Python\n",
      "installer already in place. If you don’t have pip, run through a quick\n",
      "tutorial on\n",
      "      <a href=\"../lessons/installing-python-modules-pip\">\n",
      "       installing python modules\n",
      "      </a>\n",
      "      to get it running. Once you\n",
      "have pip installed, run the following command in the terminal to install\n",
      "Beautiful Soup:\n",
      "     </p>\n",
      "     <div class=\"highlighter-rouge\">\n",
      "      <pre class=\"highlight\"><code>pip install beautifulsoup4\n",
      "</code></pre>\n",
      "     </div>\n",
      "     <p>\n",
      "      You may need to preface this line with “sudo”, which gives your computer\n",
      "permission to write to your root directories and requires you to\n",
      "re-enter your password. This is the same logic behind you being prompted\n",
      "to enter your password when you install a new program.\n",
      "     </p>\n",
      "     <p>\n",
      "      With sudo, the command is:\n",
      "     </p>\n",
      "     <div class=\"highlighter-rouge\">\n",
      "      <pre class=\"highlight\"><code>sudo pip install beautifulsoup4\n",
      "</code></pre>\n",
      "     </div>\n",
      "     <figure>\n",
      "      <a href=\"http://imgs.xkcd.com/comics/sandwich.png\">\n",
      "       <img alt=\"The power of sudo: 'Sandwich' by XKCD\" src=\"http://imgs.xkcd.com/comics/sandwich.png\"/>\n",
      "      </a>\n",
      "      <figcaption>\n",
      "       The power of sudo: 'Sandwich' by XKCD\n",
      "      </figcaption>\n",
      "     </figure>\n",
      "     <h2 id=\"application-extracting-names-and-urls-from-an-html-page\">\n",
      "      Application: Extracting names and URLs from an HTML page\n",
      "     </h2>\n",
      "     <h3 id=\"preview-where-we-are-going\">\n",
      "      Preview: Where we are going\n",
      "     </h3>\n",
      "     <p>\n",
      "      Because I like to see where the finish line is before starting, I will\n",
      "begin with a view of what we are trying to create. We are attempting to\n",
      "go from a search results page where the html page looks like this:\n",
      "     </p>\n",
      "     <div class=\"language-xml highlighter-rouge\">\n",
      "      <pre class=\"highlight\"><code><span class=\"nt\">&lt;table</span> <span class=\"na\">border=</span><span class=\"s\">\"1\"</span> <span class=\"na\">cellspacing=</span><span class=\"s\">\"2\"</span> <span class=\"na\">cellpadding=</span><span class=\"s\">\"3\"</span><span class=\"nt\">&gt;</span>\n",
      "<span class=\"nt\">&lt;tbody&gt;</span>\n",
      "<span class=\"nt\">&lt;tr&gt;</span>\n",
      "<span class=\"nt\">&lt;th&gt;</span>Member Name<span class=\"nt\">&lt;/th&gt;</span>\n",
      "<span class=\"nt\">&lt;th&gt;</span>Birth-Death<span class=\"nt\">&lt;/th&gt;</span>\n",
      "<span class=\"nt\">&lt;/tr&gt;</span>\n",
      "<span class=\"nt\">&lt;tr&gt;</span>\n",
      "<span class=\"nt\">&lt;td&gt;&lt;a</span> <span class=\"na\">href=</span><span class=\"s\">\"http://bioguide.congress.gov/scripts/biodisplay.pl?index=A000035\"</span><span class=\"nt\">&gt;</span>ADAMS, George Madison<span class=\"nt\">&lt;/a&gt;&lt;/td&gt;</span>\n",
      "<span class=\"nt\">&lt;td&gt;</span>1837-1920<span class=\"nt\">&lt;/td&gt;</span>\n",
      "<span class=\"nt\">&lt;/tr&gt;</span>\n",
      "<span class=\"nt\">&lt;tr&gt;</span>\n",
      "<span class=\"nt\">&lt;td&gt;&lt;a</span> <span class=\"na\">href=</span><span class=\"s\">\"http://bioguide.congress.gov/scripts/biodisplay.pl?index=A000074\"</span><span class=\"nt\">&gt;</span>ALBERT, William Julian<span class=\"nt\">&lt;/a&gt;&lt;/td&gt;</span>\n",
      "<span class=\"nt\">&lt;td&gt;</span>1816-1879<span class=\"nt\">&lt;/td&gt;</span>\n",
      "<span class=\"nt\">&lt;/tr&gt;</span>\n",
      "<span class=\"nt\">&lt;tr&gt;</span>\n",
      "<span class=\"nt\">&lt;td&gt;&lt;a</span> <span class=\"na\">href=</span><span class=\"s\">\"http://bioguide.congress.gov/scripts/biodisplay.pl?index=A000077\"</span><span class=\"nt\">&gt;</span>ALBRIGHT, Charles<span class=\"nt\">&lt;/a&gt;&lt;/td&gt;</span>\n",
      "<span class=\"nt\">&lt;td&gt;</span>1830-1880<span class=\"nt\">&lt;/td&gt;</span>\n",
      "<span class=\"nt\">&lt;/tr&gt;</span>\n",
      "<span class=\"nt\">&lt;/tbody&gt;</span>\n",
      "<span class=\"nt\">&lt;/table&gt;</span>\n",
      "</code></pre>\n",
      "     </div>\n",
      "     <p>\n",
      "      to a CSV file with names and urls that looks like this:\n",
      "     </p>\n",
      "     <div class=\"highlighter-rouge\">\n",
      "      <pre class=\"highlight\"><code>\"ADAMS, George Madison\",http://bioguide.congress.gov/scripts/biodisplay.pl?index=A000035\n",
      "\"ALBERT, William Julian\",http://bioguide.congress.gov/scripts/biodisplay.pl?index=A000074\n",
      "\"ALBRIGHT, Charles\",http://bioguide.congress.gov/scripts/biodisplay.pl?index=A000077\n",
      "</code></pre>\n",
      "     </div>\n",
      "     <p>\n",
      "      using a Python script like this:\n",
      "     </p>\n",
      "     <div class=\"language-python highlighter-rouge\">\n",
      "      <pre class=\"highlight\"><code><span class=\"kn\">from</span> <span class=\"nn\">bs4</span> <span class=\"kn\">import</span> <span class=\"n\">BeautifulSoup</span>\n",
      "<span class=\"kn\">import</span> <span class=\"nn\">csv</span>\n",
      "\n",
      "<span class=\"n\">soup</span> <span class=\"o\">=</span> <span class=\"n\">BeautifulSoup</span> <span class=\"p\">(</span><span class=\"nb\">open</span><span class=\"p\">(</span><span class=\"s\">\"43rd-congress.html\"</span><span class=\"p\">))</span>\n",
      "\n",
      "<span class=\"n\">final_link</span> <span class=\"o\">=</span> <span class=\"n\">soup</span><span class=\"o\">.</span><span class=\"n\">p</span><span class=\"o\">.</span><span class=\"n\">a</span>\n",
      "<span class=\"n\">final_link</span><span class=\"o\">.</span><span class=\"n\">decompose</span><span class=\"p\">()</span>\n",
      "\n",
      "<span class=\"n\">f</span> <span class=\"o\">=</span> <span class=\"n\">csv</span><span class=\"o\">.</span><span class=\"n\">writer</span><span class=\"p\">(</span><span class=\"nb\">open</span><span class=\"p\">(</span><span class=\"s\">\"43rd_Congress.csv\"</span><span class=\"p\">,</span> <span class=\"s\">\"w\"</span><span class=\"p\">))</span>\n",
      "<span class=\"n\">f</span><span class=\"o\">.</span><span class=\"n\">writerow<\n"
     ]
    }
   ],
   "source": [
    "# get html and print it nicely\n",
    "print(soup.prettify()[0:10000])"
   ]
  },
  {
   "cell_type": "markdown",
   "metadata": {},
   "source": [
    "Notes: The HTML tags contained in the angled brackets provide structural information, might be useful for selecting only the content relevant to our needs"
   ]
  },
  {
   "cell_type": "code",
   "execution_count": 41,
   "metadata": {
    "collapsed": false
   },
   "outputs": [
    {
     "name": "stdout",
     "output_type": "stream",
     "text": [
      "<class 'bs4.element.ResultSet'>\n"
     ]
    },
    {
     "data": {
      "text/plain": [
       "[<div class=\"additional\">\n",
       " <ul class=\"additional\" id=\"menu-main-menu\">\n",
       " <li class=\"menu-item\"><a href=\"/\">About</a></li>\n",
       " <li class=\"menu-item\"><a href=\"/lessons\">Lessons</a></li>\n",
       " <li class=\"menu-item\"><a href=\"/contribute\">Contribute</a></li>\n",
       " <li class=\"menu-item\"><a href=\"/project-team\">Project Team</a></li>\n",
       " <li class=\"menu-item\"><a href=\"/research\">Research</a></li>\n",
       " <li class=\"menu-item\"><a href=\"/blog\">Blog</a></li>\n",
       " </ul>\n",
       " </div>, <div class=\"additional\">\n",
       " <ul class=\"additional\" id=\"menu-main-menu\">\n",
       " <li class=\"menu-item\"><a href=\"/\">About</a></li>\n",
       " <li class=\"menu-item\"><a href=\"/lessons\">Lessons</a></li>\n",
       " <li class=\"menu-item\"><a href=\"/contribute\">Contribute</a></li>\n",
       " <li class=\"menu-item\"><a href=\"/project-team\">Project Team</a></li>\n",
       " <li class=\"menu-item\"><a href=\"/research\">Research</a></li>\n",
       " <li class=\"menu-item\"><a href=\"/blog\">Blog</a></li>\n",
       " </ul>\n",
       " </div>]"
      ]
     },
     "execution_count": 41,
     "metadata": {},
     "output_type": "execute_result"
    }
   ],
   "source": [
    "\n",
    "letters = soup.find_all(\"div\", class_=\"additional\")\n",
    "print(type(letters))\n",
    "letters"
   ]
  },
  {
   "cell_type": "code",
   "execution_count": 48,
   "metadata": {
    "collapsed": false
   },
   "outputs": [
    {
     "name": "stdout",
     "output_type": "stream",
     "text": [
      "<a href=\"http://programminghistorian.org\">The Programming Historian</a>\n",
      "<a href=\"/\">About</a>\n",
      "<a href=\"/lessons\">Lessons</a>\n",
      "<a href=\"/contribute\">Contribute</a>\n",
      "<a href=\"/project-team\">Project Team</a>\n",
      "<a href=\"/research\">Research</a>\n",
      "<a href=\"/blog\">Blog</a>\n",
      "<a href=\"http://programminghistorian.org/lessons/intro-to-beautiful-soup\">Intro to Beautiful Soup</a>\n",
      "<a href=\"https://en.wikipedia.org/wiki/Document_Object_Model\">Document\n",
      "Object Model</a>\n",
      "<a href=\"../lessons/working-with-text-files\">Working with Text Files</a>\n",
      "<a href=\"http://praxis.scholarslab.org/scratchpad/bash/\">Command Line Bootcamp</a>\n",
      "<a href=\"http://www.crummy.com/software/BeautifulSoup/bs4/doc/\">Opening lines of Beautiful\n",
      "Soup</a>\n",
      "<a href=\"http://www.crummy.com/software/BeautifulSoup/bs4/doc/\">Beautiful Soup documentation</a>\n",
      "<a href=\"../lessons/installing-python-modules-pip\">installing python modules</a>\n",
      "<a href=\"http://imgs.xkcd.com/comics/sandwich.png\">\n",
      "<img alt=\"The power of sudo: 'Sandwich' by XKCD\" src=\"http://imgs.xkcd.com/comics/sandwich.png\"/>\n",
      "</a>\n",
      "<a href=\"http://urllib3.readthedocs.org/en/latest/\">urllib3</a>\n",
      "<a href=\"http://bioguide.congress.gov/biosearch/biosearch.asp\">http://bioguide.congress.gov/biosearch/biosearch.asp</a>\n",
      "<a href=\"http://programminghistorian.org/images/intro-to-beautiful-soup/Congressional-Biographical-Directory-CLERKWEB-2013-08-23-12-22-12.jpg\">\n",
      "<img alt=\"Figure 1: BioGuide Interface Search for 43rd Congress\" src=\"http://programminghistorian.org/images/intro-to-beautiful-soup/Congressional-Biographical-Directory-CLERKWEB-2013-08-23-12-22-12.jpg\"/>\n",
      "</a>\n",
      "<a href=\"http://programminghistorian.org/images/intro-to-beautiful-soup/Congressional-Biographical-Directory-Results-2013-08-23-12-25-09.jpg\">\n",
      "<img alt=\"Figure 2: BioGuide Results We want to download the HTML behind this page.\" src=\"http://programminghistorian.org/images/intro-to-beautiful-soup/Congressional-Biographical-Directory-Results-2013-08-23-12-25-09.jpg\"/>\n",
      "</a>\n",
      "<a href=\"../lessons/automated-downloading-with-wget\">Automated Downloading with Wget</a>\n",
      "<a href=\"../lessons/downloading-multiple-records-using-query-strings\">Downloading Multiple\n",
      "Records Using Query Strings</a>\n",
      "<a href=\"http://programminghistorian.org/images/intro-to-beautiful-soup/Beautiful-Soup-Tutorial-103x40-2013-08-23-13-13-01.jpg\">\n",
      "<img alt=\"Figure 3: 'Pretty' print of the BioGuide results\" src=\"http://programminghistorian.org/images/intro-to-beautiful-soup/Beautiful-Soup-Tutorial-103x40-2013-08-23-13-13-01.jpg\"/>\n",
      "</a>\n",
      "<a href=\"http://programminghistorian.org/images/intro-to-beautiful-soup/Beautiful-Soup-Tutorial-101x26-2013-08-23-13-25-56.jpg\">\n",
      "<img alt=\"Figure 4: The URLs and names, plus one addition\" src=\"http://programminghistorian.org/images/intro-to-beautiful-soup/Beautiful-Soup-Tutorial-101x26-2013-08-23-13-25-56.jpg\"/>\n",
      "</a>\n",
      "<a href=\"http://programminghistorian.org/images/intro-to-beautiful-soup/Beautiful-Soup-Tutorial-103x40-2013-08-23-13-23-07.jpg\">\n",
      "<img alt=\"Figure 5: The rogue link\" src=\"http://programminghistorian.org/images/intro-to-beautiful-soup/Beautiful-Soup-Tutorial-103x40-2013-08-23-13-23-07.jpg\"/>\n",
      "</a>\n",
      "<a href=\"http://programminghistorian.org/images/intro-to-beautiful-soup/Beautiful-Soup-Tutorial-101x26-2013-08-23-13-28-04.jpg\">\n",
      "<img alt=\"Figure 6: Successfully isolated only names and URLs\" src=\"http://programminghistorian.org/images/intro-to-beautiful-soup/Beautiful-Soup-Tutorial-101x26-2013-08-23-13-28-04.jpg\"/>\n",
      "</a>\n",
      "<a href=\"http://programminghistorian.org/images/intro-to-beautiful-soup/Beautiful-Soup-Tutorial-101x26-2013-08-23-14-13-13.jpg\">\n",
      "<img alt=\"Figure 7: All HTML tags have been removed\" src=\"http://programminghistorian.org/images/intro-to-beautiful-soup/Beautiful-Soup-Tutorial-101x26-2013-08-23-14-13-13.jpg\"/>\n",
      "</a>\n",
      "<a href=\"http://programminghistorian.org/images/intro-to-beautiful-soup/43rd_Congress-2-2013-08-23-14-18-27.jpg\">\n",
      "<img alt=\"Figure 8: CSV file of results\" src=\"http://programminghistorian.org/images/intro-to-beautiful-soup/43rd_Congress-2-2013-08-23-14-18-27.jpg\"/>\n",
      "</a>\n",
      "<a href=\"http://programminghistorian.org/images/intro-to-beautiful-soup/Beautiful-Soup-Tutorial-142x40-2013-08-23-16-51-22.jpg\">\n",
      "<img alt=\"Figure 9: All of the Table Row data\" src=\"http://programminghistorian.org/images/intro-to-beautiful-soup/Beautiful-Soup-Tutorial-142x40-2013-08-23-16-51-22.jpg\"/>\n",
      "</a>\n",
      "<a href=\"/\">About</a>\n",
      "<a href=\"/lessons\">Lessons</a>\n",
      "<a href=\"/contribute\">Contribute</a>\n",
      "<a href=\"/project-team\">Project Team</a>\n",
      "<a href=\"/research\">Research</a>\n",
      "<a href=\"/blog\">Blog</a>\n",
      "<a href=\"http://creativecommons.org/licenses/by/2.0/\" rel=\"license\">CC-BY</a>\n",
      "<a href=\"https://github.com/programminghistorian/jekyll\">Hosted on GitHub <img src=\"http://programminghistorian.org/images/GitHub-Mark-32px.png\" title=\"GitHub logo\"/></a>\n",
      "<a href=\"https://github.com/programminghistorian/jekyll/commits/gh-pages/lessons/intro-to-beautiful-soup.md\">Previous Versions</a>\n",
      "<a href=\"../feedback\">Give Feedback</a>\n"
     ]
    }
   ],
   "source": [
    "links = soup.find_all('a')\n",
    "\n",
    "for link in links:\n",
    "    print(link)"
   ]
  },
  {
   "cell_type": "code",
   "execution_count": 42,
   "metadata": {
    "collapsed": true
   },
   "outputs": [],
   "source": [
    " #pull out the name and make it a key in our dict\n",
    "\n",
    "lobbying = {}\n",
    "for element in letters:\n",
    "    lobbying[element.a.get_text()] = {}\n",
    "    "
   ]
  },
  {
   "cell_type": "code",
   "execution_count": 46,
   "metadata": {
    "collapsed": false
   },
   "outputs": [],
   "source": [
    "#parent link\n",
    "prefix = \"http://programminghistorian.org\"\n",
    "#go through our letters collection again, and add a link key to our lobbying dictionaries\n",
    "for element in letters:\n",
    "    lobbying[element.a.get_text()][\"link\"] = prefix + element.a[\"href\"]"
   ]
  },
  {
   "cell_type": "markdown",
   "metadata": {},
   "source": [
    "### Credits\n",
    "http://web.stanford.edu/~zlotnick/TextAsData/Web_Scraping_with_Beautiful_Soup.html\n",
    "http://programminghistorian.org/lessons/intro-to-beautiful-soup"
   ]
  },
  {
   "cell_type": "code",
   "execution_count": null,
   "metadata": {
    "collapsed": true
   },
   "outputs": [],
   "source": []
  }
 ],
 "metadata": {
  "anaconda-cloud": {},
  "kernelspec": {
   "display_name": "Python [default]",
   "language": "python",
   "name": "python3"
  },
  "language_info": {
   "codemirror_mode": {
    "name": "ipython",
    "version": 3
   },
   "file_extension": ".py",
   "mimetype": "text/x-python",
   "name": "python",
   "nbconvert_exporter": "python",
   "pygments_lexer": "ipython3",
   "version": "3.4.5"
  }
 },
 "nbformat": 4,
 "nbformat_minor": 1
}
