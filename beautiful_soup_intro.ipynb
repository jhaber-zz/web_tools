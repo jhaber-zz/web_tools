{
 "cells": [
  {
   "cell_type": "code",
   "execution_count": null,
   "metadata": {
    "collapsed": true,
    "deletable": true,
    "editable": true
   },
   "outputs": [],
   "source": [
    "# a basic introduction to beautifulsoup on how to get text from a website"
   ]
  },
  {
   "cell_type": "code",
   "execution_count": 2,
   "metadata": {
    "collapsed": false,
    "deletable": true,
    "editable": true
   },
   "outputs": [],
   "source": [
    "# import stuff, use google to check how to install these modules\n",
    "from bs4 import BeautifulSoup\n",
    "from bs4 import Tag as tag\n",
    "# see this for request documentation http://docs.python-requests.org/en/master/ \n",
    "import requests  "
   ]
  },
  {
   "cell_type": "code",
   "execution_count": 3,
   "metadata": {
    "collapsed": false,
    "deletable": true,
    "editable": true
   },
   "outputs": [],
   "source": [
    "# use the requests module to request data from the website\n",
    "r  = requests.get('http://www.k12northstar.org/chinook')\n",
    "data = r.text # it gives you raw data of the website --> more like html and css code but not really"
   ]
  },
  {
   "cell_type": "code",
   "execution_count": 4,
   "metadata": {
    "collapsed": false,
    "deletable": true,
    "editable": true
   },
   "outputs": [],
   "source": [
    "# construct a soup object that gives you a formatted website code in HTML/CSS, JS\n",
    "soup = BeautifulSoup(data, 'html.parser')\n",
    "# print(soup.prettify())  you can uncomment this to check the code, but it's too long so I just comment it for readability"
   ]
  },
  {
   "cell_type": "code",
   "execution_count": 38,
   "metadata": {
    "collapsed": false,
    "deletable": true,
    "editable": true
   },
   "outputs": [],
   "source": [
    "# example here: find_all('a') means find all <a> tag in html\n",
    "# uncomment to see the result\n",
    "# for link in soup.find_all('a'):\n",
    "#     print(link.get('href'))"
   ]
  },
  {
   "cell_type": "code",
   "execution_count": 6,
   "metadata": {
    "collapsed": false,
    "deletable": true,
    "editable": true
   },
   "outputs": [],
   "source": [
    "paragraph = soup.find_all('p')  \n",
    "# p tag in html is where paragraphs or texts is placed, \n",
    "# so we need to extract them from the soup object"
   ]
  },
  {
   "cell_type": "code",
   "execution_count": 5,
   "metadata": {
    "collapsed": false,
    "deletable": true,
    "editable": true
   },
   "outputs": [
    {
     "ename": "NameError",
     "evalue": "name 'paragraph' is not defined",
     "output_type": "error",
     "traceback": [
      "\u001b[0;31m---------------------------------------------------------------------------\u001b[0m",
      "\u001b[0;31mNameError\u001b[0m                                 Traceback (most recent call last)",
      "\u001b[0;32m<ipython-input-5-b66f98c7e3e7>\u001b[0m in \u001b[0;36m<module>\u001b[0;34m()\u001b[0m\n\u001b[0;32m----> 1\u001b[0;31m \u001b[0mparagraph\u001b[0m  \u001b[0;31m# check what is being extracted\u001b[0m\u001b[0;34m\u001b[0m\u001b[0m\n\u001b[0m",
      "\u001b[0;31mNameError\u001b[0m: name 'paragraph' is not defined"
     ]
    }
   ],
   "source": [
    "paragraph  # check what is being extracted"
   ]
  },
  {
   "cell_type": "code",
   "execution_count": 6,
   "metadata": {
    "collapsed": false,
    "deletable": true,
    "editable": true
   },
   "outputs": [
    {
     "ename": "NameError",
     "evalue": "name 'paragraph' is not defined",
     "output_type": "error",
     "traceback": [
      "\u001b[0;31m---------------------------------------------------------------------------\u001b[0m",
      "\u001b[0;31mNameError\u001b[0m                                 Traceback (most recent call last)",
      "\u001b[0;32m<ipython-input-6-9a9bb602cc31>\u001b[0m in \u001b[0;36m<module>\u001b[0;34m()\u001b[0m\n\u001b[1;32m      1\u001b[0m \u001b[0;31m# how to get plain text from all the p tag stuff\u001b[0m\u001b[0;34m\u001b[0m\u001b[0;34m\u001b[0m\u001b[0m\n\u001b[0;32m----> 2\u001b[0;31m \u001b[0;32mfor\u001b[0m \u001b[0mp\u001b[0m \u001b[0;32min\u001b[0m \u001b[0mparagraph\u001b[0m\u001b[0;34m:\u001b[0m\u001b[0;34m\u001b[0m\u001b[0m\n\u001b[0m\u001b[1;32m      3\u001b[0m     \u001b[0mprint\u001b[0m\u001b[0;34m(\u001b[0m\u001b[0mp\u001b[0m\u001b[0;34m.\u001b[0m\u001b[0mtext\u001b[0m\u001b[0;34m)\u001b[0m\u001b[0;34m\u001b[0m\u001b[0m\n",
      "\u001b[0;31mNameError\u001b[0m: name 'paragraph' is not defined"
     ]
    }
   ],
   "source": [
    "# how to get plain text from all the p tag stuff\n",
    "for p in paragraph:\n",
    "    print(p.text)"
   ]
  },
  {
   "cell_type": "code",
   "execution_count": 8,
   "metadata": {
    "collapsed": false,
    "deletable": true,
    "editable": true
   },
   "outputs": [
    {
     "name": "stdout",
     "output_type": "stream",
     "text": [
      "use the following search parameters to narrow your results:\n",
      "e.g. subreddit:aww site:imgur.com dog\n",
      "see the search faq for details.\n",
      "advanced search: by author, subreddit...\n",
      "83%\n",
      "reddit gold gives you extra features and helps keep our servers running. We believe the more reddit can be user-supported, the freer we will be to make reddit the best it can be.\n",
      "Buy gold for yourself to gain access to extra features and special benefits. A month of gold pays for  231.26 minutes of reddit server time!\n",
      "Give gold to thank exemplary people and encourage them to post more.\n",
      "This daily goal updates every 10 minutes and is reset at midnight Pacific Time  (9 hours, 35 minutes from now).\n",
      "Yesterday's reddit gold goal\n",
      "104%\n",
      "\n",
      "Hot Fuzz guys spotted in the London Attack (i.imgur.com)\n",
      "submitted 1 hour ago by IHaeTypos to r/gifs\n",
      "\n",
      "TIL Deaf-from-birth schizophrenics see disembodied hands signing to them rather than \"hearing voices\" (ucl.ac.uk)\n",
      "submitted 4 hours ago by paniniplane to r/todayilearned\n",
      "\n",
      "One year of no alcohol has changed my life. I lost 53 pounds and I'm 1000 times happier. I tried to recreate my bloated pic.progress (i.redd.it)\n",
      "submitted 5 hours ago by Klamsykrawl to r/pics\n",
      "\n",
      "Satanist Anon tries an AMA (i.redd.it)\n",
      "submitted 5 hours ago by AscensionWhale to r/classic4chan\n",
      "\n",
      "Fell asleep in the library. Found this on my desk when I woke up. (i.imgur.com)\n",
      "submitted 4 hours ago by Weszzel to r/funny\n",
      "\n",
      "Parliament shooting: Police officer and another man shot outside UK House of Commons4 dead, 20+ wounded, perp dead (independent.co.uk)\n",
      "submitted 6 hours ago by rpsz to r/worldnews\n",
      "\n",
      "Country/Folk singer songwriter Woody Guthrie once wrote a song about his contempt for his landlord, Fred Trump, father of President Donald Trump. In his song, Guthrie accuses Fred Trump of intentionally stirring up racial tension for his own profit.Article (nytimes.com)\n",
      "submitted 5 hours ago by nazdarovye to r/Music\n",
      "\n",
      "Children born to older mothers experience fewer behavioural, social and emotional difficulties, a new study has suggested.Psychology (independent.co.uk)\n",
      "submitted 6 hours ago by NinjaDiscoJesus to r/science\n",
      "\n",
      "School lunch today was chicken nuggets in a hotdog bun (i.reddituploads.com)\n",
      "submitted 6 hours ago by OneHotCoffee to r/mildlyinteresting\n",
      "\n",
      "Spring has sprung (i.redd.it)\n",
      "submitted 5 hours ago by Foop to r/comics\n",
      "\n",
      "My neighbor came over this morning to ask if my dogs could come out and play (i.imgur.com)\n",
      "submitted 6 hours ago by JaderBug12 to r/aww\n",
      "\n",
      "Death Note | Teaser [HD] | Netflix/r/all (youtube.com)\n",
      "submitted 6 hours ago by Ferragutz to r/television\n",
      "\n",
      "Release the fluff!/r/all (imgur.com)\n",
      "submitted 6 hours ago by SlimJones123 to r/Eyebleach\n",
      "\n",
      "The end of 'Rogue One' cut into the beginning of 'A New Hope.' (vimeo.com)\n",
      "submitted 7 hours ago by kuphinit to r/videos\n",
      "\n",
      "When my wife accused me of triggering the lightning bolt in Mario Kart/r/all (i.imgur.com)\n",
      "submitted 8 hours ago by EditingAndLayout to r/reactiongifs\n",
      "\n",
      "Elon Musk: New NASA bill contains no real new funding for Mars (arstechnica.com)\n",
      "submitted 8 hours ago by puns4life to r/space\n",
      "\n",
      "One of the Many Gems from the New Dave Chapelle Specials. (i.redd.it)\n",
      "submitted 8 hours ago by ExplosivePuppy to r/standupshots\n",
      "\n",
      "Man proposes to girlfriend under the aurora borealis in Iceland | Pic by Dale Sharpe [620x930] (i.imgur.com)\n",
      "submitted 7 hours ago by TheLostCrusader to r/spaceporn\n",
      "\n",
      "His name is fucking War Machine, I'm good. (i.imgur.com)\n",
      "submitted 8 hours ago by EinsZweiDreiVeir to r/BlackPeopleTwitter\n",
      "\n",
      "Dog refused to walk again until he made a new friend. (i.imgur.com)\n",
      "submitted 2 hours ago by natsdorf to r/AnimalsBeingBros\n",
      "\n",
      "Saw this today, brought a tear to my eye (i.redd.it)\n",
      "submitted 5 hours ago by Ssgogo1 to r/DunderMifflin\n",
      "\n",
      "AP Exclusive: Manafort had plan to benefit Putin government (apnews.com)\n",
      "submitted 9 hours ago by bananajaguar to r/news\n",
      "\n",
      "Red Wall by Scott Uminga, Digital, 2017Artwork (cdna.artstation.com)\n",
      "submitted 7 hours ago by Lol33ta to r/Art\n",
      "\n",
      "Liftware LevelGIF (i.imgur.com)\n",
      "submitted 8 hours ago by AdamE89 to r/Damnthatsinteresting\n",
      "\n",
      "Beach ball bounce (imgur.com)\n",
      "submitted 9 hours ago by SlimJones123 to r/oddlysatisfying\n",
      "Use of this site constitutes acceptance of our User Agreement and Privacy Policy. © 2017 reddit inc. All rights reserved.\n",
      "REDDIT and the ALIEN Logo are registered trademarks of reddit inc.\n",
      "π Rendered by PID 28613 on  app-326  at 2017-03-22 21:23:59.862435+00:00 running 6d5aed3 country code: US.\n"
     ]
    }
   ],
   "source": [
    "###################### now try it with reddit ############################\n",
    "\n",
    "r  = requests.get('http://www.reddit.com')\n",
    "data = r.text\n",
    "soup = BeautifulSoup(data, 'html.parser')\n",
    "paragraph = soup.find_all('p')\n",
    "for p in paragraph:\n",
    "    print(p.text)"
   ]
  },
  {
   "cell_type": "code",
   "execution_count": 10,
   "metadata": {
    "collapsed": true,
    "deletable": true,
    "editable": true
   },
   "outputs": [],
   "source": [
    "# after getting just text from a website, then just do some keyword search and also search their babies (children)\n",
    "# more on this later..."
   ]
  },
  {
   "cell_type": "code",
   "execution_count": null,
   "metadata": {
    "collapsed": true,
    "deletable": true,
    "editable": true
   },
   "outputs": [],
   "source": []
  }
 ],
 "metadata": {
  "kernelspec": {
   "display_name": "Python 3",
   "language": "python",
   "name": "python3"
  },
  "language_info": {
   "codemirror_mode": {
    "name": "ipython",
    "version": 3
   },
   "file_extension": ".py",
   "mimetype": "text/x-python",
   "name": "python",
   "nbconvert_exporter": "python",
   "pygments_lexer": "ipython3",
   "version": "3.6.0"
  }
 },
 "nbformat": 4,
 "nbformat_minor": 2
}
