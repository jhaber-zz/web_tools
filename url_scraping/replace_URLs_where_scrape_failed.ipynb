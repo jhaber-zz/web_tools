{
 "cells": [
  {
   "cell_type": "markdown",
   "metadata": {},
   "source": [
    "# Replace URLs where webscraping failed to capture webtext\n",
    "\n",
    "Author(s): Saabhir Gill <br>\n",
    "Project Manager: Jaren Haber, PhD Candidate <br>\n",
    "Contact: jhaber@berkeley.edu\n",
    "\n",
    "Institution: University of California, Berkeley <br>\n",
    "Program: Undergraduate Research Apprentice Program (URAP) <br>\n",
    "\n",
    "Date created: Nov. 14, 2018<br>\n",
    "Last modified: Nov. 15, 2018\n",
    "\n",
    "Description: "
   ]
  },
  {
   "cell_type": "code",
   "execution_count": 15,
   "metadata": {},
   "outputs": [
    {
     "name": "stderr",
     "output_type": "stream",
     "text": [
      "/opt/conda/lib/python3.6/site-packages/ipykernel_launcher.py:5: UserWarning: \n",
      "This call to matplotlib.use() has no effect because the backend has already\n",
      "been chosen; matplotlib.use() must be called *before* pylab, matplotlib.pyplot,\n",
      "or matplotlib.backends is imported for the first time.\n",
      "\n",
      "The backend was *originally* set to 'module://ipykernel.pylab.backend_inline' by the following code:\n",
      "  File \"/opt/conda/lib/python3.6/runpy.py\", line 193, in _run_module_as_main\n",
      "    \"__main__\", mod_spec)\n",
      "  File \"/opt/conda/lib/python3.6/runpy.py\", line 85, in _run_code\n",
      "    exec(code, run_globals)\n",
      "  File \"/opt/conda/lib/python3.6/site-packages/ipykernel_launcher.py\", line 16, in <module>\n",
      "    app.launch_new_instance()\n",
      "  File \"/opt/conda/lib/python3.6/site-packages/traitlets/config/application.py\", line 658, in launch_instance\n",
      "    app.start()\n",
      "  File \"/opt/conda/lib/python3.6/site-packages/ipykernel/kernelapp.py\", line 486, in start\n",
      "    self.io_loop.start()\n",
      "  File \"/opt/conda/lib/python3.6/site-packages/tornado/platform/asyncio.py\", line 132, in start\n",
      "    self.asyncio_loop.run_forever()\n",
      "  File \"/opt/conda/lib/python3.6/asyncio/base_events.py\", line 421, in run_forever\n",
      "    self._run_once()\n",
      "  File \"/opt/conda/lib/python3.6/asyncio/base_events.py\", line 1426, in _run_once\n",
      "    handle._run()\n",
      "  File \"/opt/conda/lib/python3.6/asyncio/events.py\", line 127, in _run\n",
      "    self._callback(*self._args)\n",
      "  File \"/opt/conda/lib/python3.6/site-packages/tornado/platform/asyncio.py\", line 122, in _handle_events\n",
      "    handler_func(fileobj, events)\n",
      "  File \"/opt/conda/lib/python3.6/site-packages/tornado/stack_context.py\", line 300, in null_wrapper\n",
      "    return fn(*args, **kwargs)\n",
      "  File \"/opt/conda/lib/python3.6/site-packages/zmq/eventloop/zmqstream.py\", line 450, in _handle_events\n",
      "    self._handle_recv()\n",
      "  File \"/opt/conda/lib/python3.6/site-packages/zmq/eventloop/zmqstream.py\", line 480, in _handle_recv\n",
      "    self._run_callback(callback, msg)\n",
      "  File \"/opt/conda/lib/python3.6/site-packages/zmq/eventloop/zmqstream.py\", line 432, in _run_callback\n",
      "    callback(*args, **kwargs)\n",
      "  File \"/opt/conda/lib/python3.6/site-packages/tornado/stack_context.py\", line 300, in null_wrapper\n",
      "    return fn(*args, **kwargs)\n",
      "  File \"/opt/conda/lib/python3.6/site-packages/ipykernel/kernelbase.py\", line 283, in dispatcher\n",
      "    return self.dispatch_shell(stream, msg)\n",
      "  File \"/opt/conda/lib/python3.6/site-packages/ipykernel/kernelbase.py\", line 233, in dispatch_shell\n",
      "    handler(stream, idents, msg)\n",
      "  File \"/opt/conda/lib/python3.6/site-packages/ipykernel/kernelbase.py\", line 399, in execute_request\n",
      "    user_expressions, allow_stdin)\n",
      "  File \"/opt/conda/lib/python3.6/site-packages/ipykernel/ipkernel.py\", line 208, in do_execute\n",
      "    res = shell.run_cell(code, store_history=store_history, silent=silent)\n",
      "  File \"/opt/conda/lib/python3.6/site-packages/ipykernel/zmqshell.py\", line 537, in run_cell\n",
      "    return super(ZMQInteractiveShell, self).run_cell(*args, **kwargs)\n",
      "  File \"/opt/conda/lib/python3.6/site-packages/IPython/core/interactiveshell.py\", line 2662, in run_cell\n",
      "    raw_cell, store_history, silent, shell_futures)\n",
      "  File \"/opt/conda/lib/python3.6/site-packages/IPython/core/interactiveshell.py\", line 2785, in _run_cell\n",
      "    interactivity=interactivity, compiler=compiler, result=result)\n",
      "  File \"/opt/conda/lib/python3.6/site-packages/IPython/core/interactiveshell.py\", line 2901, in run_ast_nodes\n",
      "    if self.run_code(code, result):\n",
      "  File \"/opt/conda/lib/python3.6/site-packages/IPython/core/interactiveshell.py\", line 2961, in run_code\n",
      "    exec(code_obj, self.user_global_ns, self.user_ns)\n",
      "  File \"<ipython-input-1-76fc1e411c8a>\", line 7, in <module>\n",
      "    get_ipython().run_line_magic('matplotlib', 'inline')\n",
      "  File \"/opt/conda/lib/python3.6/site-packages/IPython/core/interactiveshell.py\", line 2131, in run_line_magic\n",
      "    result = fn(*args,**kwargs)\n",
      "  File \"<decorator-gen-107>\", line 2, in matplotlib\n",
      "  File \"/opt/conda/lib/python3.6/site-packages/IPython/core/magic.py\", line 187, in <lambda>\n",
      "    call = lambda f, *a, **k: f(*a, **k)\n",
      "  File \"/opt/conda/lib/python3.6/site-packages/IPython/core/magics/pylab.py\", line 99, in matplotlib\n",
      "    gui, backend = self.shell.enable_matplotlib(args.gui)\n",
      "  File \"/opt/conda/lib/python3.6/site-packages/IPython/core/interactiveshell.py\", line 3049, in enable_matplotlib\n",
      "    pt.activate_matplotlib(backend)\n",
      "  File \"/opt/conda/lib/python3.6/site-packages/IPython/core/pylabtools.py\", line 311, in activate_matplotlib\n",
      "    matplotlib.pyplot.switch_backend(backend)\n",
      "  File \"/opt/conda/lib/python3.6/site-packages/matplotlib/pyplot.py\", line 233, in switch_backend\n",
      "    _backend_mod, new_figure_manager, draw_if_interactive, _show = pylab_setup()\n",
      "  File \"/opt/conda/lib/python3.6/site-packages/matplotlib/backends/__init__.py\", line 62, in pylab_setup\n",
      "    [backend_name], 0)\n",
      "  File \"/opt/conda/lib/python3.6/site-packages/ipykernel/pylab/backend_inline.py\", line 165, in <module>\n",
      "    _enable_matplotlib_integration()\n",
      "  File \"/opt/conda/lib/python3.6/site-packages/ipykernel/pylab/backend_inline.py\", line 155, in _enable_matplotlib_integration\n",
      "    activate_matplotlib(backend)\n",
      "  File \"/opt/conda/lib/python3.6/site-packages/IPython/core/pylabtools.py\", line 311, in activate_matplotlib\n",
      "    matplotlib.pyplot.switch_backend(backend)\n",
      "  File \"/opt/conda/lib/python3.6/site-packages/matplotlib/pyplot.py\", line 231, in switch_backend\n",
      "    matplotlib.use(newbackend, warn=False, force=True)\n",
      "  File \"/opt/conda/lib/python3.6/site-packages/matplotlib/__init__.py\", line 1422, in use\n",
      "    reload(sys.modules['matplotlib.backends'])\n",
      "  File \"/opt/conda/lib/python3.6/importlib/__init__.py\", line 166, in reload\n",
      "    _bootstrap._exec(spec, module)\n",
      "  File \"/opt/conda/lib/python3.6/site-packages/matplotlib/backends/__init__.py\", line 16, in <module>\n",
      "    line for line in traceback.format_stack()\n",
      "\n",
      "\n",
      "  \"\"\"\n"
     ]
    }
   ],
   "source": [
    "from datascience import *\n",
    "import pandas as pd\n",
    "import math\n",
    "import matplotlib\n",
    "matplotlib.use('Agg')\n",
    "from datascience import Table\n",
    "%matplotlib inline\n",
    "import matplotlib.pyplot as plt\n",
    "import numpy as np\n",
    "plt.style.use('fivethirtyeight')\n"
   ]
  },
  {
   "cell_type": "code",
   "execution_count": 3,
   "metadata": {},
   "outputs": [],
   "source": [
    "##initialize tables, full is a table of all values \n",
    "##short is a table of the initially failed url scrapes\n",
    "\n",
    "full = Table.read_table('../data/charter_URLs_2016_fullsheet_110818.csv')\n",
    "short = Table.read_table('../data/charter_URLs_2016_unscraped_110818.csv')"
   ]
  },
  {
   "cell_type": "code",
   "execution_count": 4,
   "metadata": {},
   "outputs": [
    {
     "name": "stdout",
     "output_type": "stream",
     "text": [
      "SEARCH16 | URL    | FAILED_SCRAPE_MANUAL | FAILED_SCRAPE_AUTO | URL_DIRTY | NUM_BAD_URLS | SHARED_URL_ONLY | NCESSCH | CONFIRMED_CLOSED17 | URL_CHECKED_BY | NOTES  | SCHNAM | ADDRESS16 | URL16-DIRTY | URL14  | SY_STATUS16 | SY_STATUS15 | LEVEL15 | STABR  | WEBSITE_OFFICIAL | YEAR_CLOSED | SEARCH14 | SCHNAM14 | YEAR_OPENED\n",
      "[7696]   | [7696] | [7696]               | [7696]             | [7696]    | [7696]       | [7696]          | [7696]  | [7696]             | [7696]         | [7696] | [7696] | [7696]    | [7696]      | [7696] | [7696]      | [7696]      | [7696]  | [7696] | [7696]           | [7696]      | [7696]   | [7696]   | [7696]\n"
     ]
    },
    {
     "name": "stderr",
     "output_type": "stream",
     "text": [
      "/opt/conda/lib/python3.6/site-packages/datascience/tables.py:192: FutureWarning: Implicit column method lookup is deprecated.\n",
      "  warnings.warn(\"Implicit column method lookup is deprecated.\", FutureWarning)\n"
     ]
    },
    {
     "data": {
      "text/html": [
       "<table border=\"1\" class=\"dataframe\">\n",
       "    <thead>\n",
       "        <tr>\n",
       "            <th>SEARCH16</th> <th>URL</th> <th>FAILED_SCRAPE_MANUAL</th> <th>FAILED_SCRAPE_AUTO</th> <th>URL_DIRTY</th> <th>NUM_BAD_URLS</th> <th>SHARED_URL_ONLY</th> <th>NCESSCH</th> <th>CONFIRMED_CLOSED17</th> <th>URL_CHECKED_BY</th> <th>NOTES</th> <th>SCHNAM</th> <th>ADDRESS16</th> <th>URL16-DIRTY</th> <th>URL14</th> <th>SY_STATUS16</th> <th>SY_STATUS15</th> <th>LEVEL15</th> <th>STABR</th> <th>WEBSITE_OFFICIAL</th> <th>YEAR_CLOSED</th> <th>SEARCH14</th> <th>SCHNAM14</th> <th>YEAR_OPENED</th>\n",
       "        </tr>\n",
       "    </thead>\n",
       "    <tbody>\n",
       "        <tr>\n",
       "            <td>Knowledge Academies High School 5320 Hickory Hollow PW , ...</td> <td>https://www.knowledgeacademies.org/</td> <td>nan                 </td> <td>1                 </td> <td>nan      </td> <td>2           </td> <td>1              </td> <td>470318002442</td> <td>0                 </td> <td>KA            </td> <td>URL Checked </td> <td>Knowledge Academies High School                        </td> <td> 5320 Hickory Hollow PW , Antioch TN 37013.0        </td> <td>https://www.knowledgeacademies.org/</td> <td>nan                            </td> <td>1          </td> <td>3          </td> <td>3      </td> <td>TN   </td> <td>www.knowle                                   </td> <td>nan        </td> <td>nan                                                         </td> <td>Knowledge Academies High School </td> <td>2015       </td>\n",
       "        </tr>\n",
       "        <tr>\n",
       "            <td>McDonogh 42 Charter School 3019 Higgins Blvd. , New Orle ...</td> <td>http://42charterschool.org/        </td> <td>nan                 </td> <td>1                 </td> <td>nan      </td> <td>nan         </td> <td>0              </td> <td>220019300944</td> <td>0                 </td> <td>nan           </td> <td>nan         </td> <td>McDonogh 42 Charter School                             </td> <td> 3019 Higgins Blvd. , New Orleans LA 70126.0        </td> <td>http://42charterschool.org/        </td> <td>nan                            </td> <td>1          </td> <td>5          </td> <td>1      </td> <td>LA   </td> <td>nan                                          </td> <td>nan        </td> <td>nan                                                         </td> <td>McDonogh 42 Charter School      </td> <td>2016       </td>\n",
       "        </tr>\n",
       "        <tr>\n",
       "            <td>Humphreys College Academy of Business Law and Education  ...</td> <td>http://ablecharter.net/            </td> <td>nan                 </td> <td>1                 </td> <td>nan      </td> <td>nan         </td> <td>0              </td> <td>62703013064 </td> <td>0                 </td> <td>nan           </td> <td>nan         </td> <td>Humphreys College Academy of Business Law and Education</td> <td> 6515 Inglewood Ave. , Stockton CA 95207.0          </td> <td>http://ablecharter.net/            </td> <td>http://ablecharter.net/        </td> <td>1          </td> <td>1          </td> <td>4      </td> <td>CA   </td> <td>www.ablecharter.net                          </td> <td>nan        </td> <td>Humphreys College Academy of Business, Law and Education ...</td> <td>Humphreys College Academy of Bus</td> <td>2012       </td>\n",
       "        </tr>\n",
       "        <tr>\n",
       "            <td>AVANT GARDE ACADEMY OF BROWARD 2025 MCKINLEY ST , HOLLYW ...</td> <td>http://agabroward.org/             </td> <td>nan                 </td> <td>1                 </td> <td>nan      </td> <td>nan         </td> <td>1              </td> <td>120018008361</td> <td>0                 </td> <td>nan           </td> <td>nan         </td> <td>AVANT GARDE ACADEMY OF BROWARD                         </td> <td> 2025 MCKINLEY ST , HOLLYWOOD FL 33020.0            </td> <td>http://agabroward.org/             </td> <td>http://agabroward.org/         </td> <td>1          </td> <td>1          </td> <td>4      </td> <td>FL   </td> <td>www.championshipacademy.org/avantgardeacademy</td> <td>nan        </td> <td>AVANT GARDE ACADEMY OF BROWARD 11020 HILLCREST DR, HOLLY ...</td> <td>AVANT GARDE ACADEMY OF BROWARD  </td> <td>2014       </td>\n",
       "        </tr>\n",
       "        <tr>\n",
       "            <td>AVANT GARDE ACADEMY K-8 BROWARD 2025 MCKINLEY ST , HOLLY ...</td> <td>http://agabroward.org/             </td> <td>nan                 </td> <td>1                 </td> <td>nan      </td> <td>nan         </td> <td>1              </td> <td>120018008405</td> <td>0                 </td> <td>nan           </td> <td>nan         </td> <td>AVANT GARDE ACADEMY K-8 BROWARD                        </td> <td> 2025 MCKINLEY ST , HOLLYWOOD FL 33020.0            </td> <td>http://agabroward.org/             </td> <td>nan                            </td> <td>1          </td> <td>3          </td> <td>1      </td> <td>FL   </td> <td>http://www.browardschools.com                </td> <td>nan        </td> <td>nan                                                         </td> <td>AVANT GARDE ACADEMY K-8 BROWARD </td> <td>2015       </td>\n",
       "        </tr>\n",
       "        <tr>\n",
       "            <td>AVANT GARDE ACADEMY K8 OSCEOLA 3540 PLEASANT HILL RD , K ...</td> <td>http://agapleasanthill.org/        </td> <td>nan                 </td> <td>1                 </td> <td>nan      </td> <td>nan         </td> <td>0              </td> <td>120147008377</td> <td>0                 </td> <td>nan           </td> <td>nan         </td> <td>AVANT GARDE ACADEMY K8 OSCEOLA                         </td> <td> 3540 PLEASANT HILL RD , KISSIMMEE FL 34746.0       </td> <td>http://agapleasanthill.org/        </td> <td>nan                            </td> <td>1          </td> <td>3          </td> <td>1      </td> <td>FL   </td> <td>www.avantgardeacademy.org                    </td> <td>nan        </td> <td>nan                                                         </td> <td>AVANT GARDE ACADEMY K8 OSCEOLA  </td> <td>2015       </td>\n",
       "        </tr>\n",
       "        <tr>\n",
       "            <td>ACADEMY FOR INTERNATIONAL EDUCATION CHARTER SCHOOL 1080  ...</td> <td>http://aiecharterschool.org/       </td> <td>nan                 </td> <td>1                 </td> <td>nan      </td> <td>nan         </td> <td>0              </td> <td>120039007841</td> <td>0                 </td> <td>nan           </td> <td>nan         </td> <td>ACADEMY FOR INTERNATIONAL EDUCATION CHARTER SCHOOL     </td> <td> 1080 LABARON DR , MIAMI SPRINGS FL 33166.0         </td> <td>http://aiecharterschool.org/       </td> <td>http://aiecharterschool.org/   </td> <td>1          </td> <td>1          </td> <td>1      </td> <td>FL   </td> <td>http://www.aiecharter.net                    </td> <td>nan        </td> <td>ACADEMY FOR INTERNATIONAL EDUCATION CHARTER SCHOOL 1080  ...</td> <td>ACADEMY FOR INTERNATIONAL EDUCAT</td> <td>2011       </td>\n",
       "        </tr>\n",
       "        <tr>\n",
       "            <td>Alice M. Harte Elementary Charter School 4422 General Me ...</td> <td>http://alicemhartecharter.org/     </td> <td>nan                 </td> <td>1                 </td> <td>nan      </td> <td>nan         </td> <td>0              </td> <td>220117000903</td> <td>0                 </td> <td>nan           </td> <td>nan         </td> <td>Alice M. Harte Elementary Charter School               </td> <td> 4422 General Meyer Avenue , New Orleans LA 70131.0 </td> <td>http://alicemhartecharter.org/     </td> <td>http://alicemhartecharter.org/ </td> <td>1          </td> <td>1          </td> <td>1      </td> <td>LA   </td> <td>nan                                          </td> <td>nan        </td> <td>Alice M. Harte Elementary Charter School 4422 General Me ...</td> <td>Alice M. Harte Elementary Charte</td> <td>1998       </td>\n",
       "        </tr>\n",
       "        <tr>\n",
       "            <td>Innocademy Allegan Campus 2611 56th St , Fennville MI 49 ...</td> <td>http://allegan.innoacademy.com/    </td> <td>nan                 </td> <td>1                 </td> <td>nan      </td> <td>nan         </td> <td>0              </td> <td>260107108603</td> <td>0                 </td> <td>nan           </td> <td>nan         </td> <td>Innocademy Allegan Campus                              </td> <td> 2611 56th St , Fennville MI 49408.0                </td> <td>http://allegan.innocademy.com/     </td> <td>http://allegan.innoacademy.com/</td> <td>1          </td> <td>1          </td> <td>1      </td> <td>MI   </td> <td>nan                                          </td> <td>nan        </td> <td>Innocademy Allegan Campus 2611 56th St, Fennville, MI 49408 </td> <td>Innocademy Allegan Campus       </td> <td>2014       </td>\n",
       "        </tr>\n",
       "        <tr>\n",
       "            <td>Avoyelles Public Charter School 201 Longfellow Rd , Mans ...</td> <td>http://apcs.us/                    </td> <td>nan                 </td> <td>1                 </td> <td>nan      </td> <td>nan         </td> <td>0              </td> <td>220003501494</td> <td>0                 </td> <td>nan           </td> <td>nan         </td> <td>Avoyelles Public Charter School                        </td> <td> 201 Longfellow Rd , Mansura LA 71350.0             </td> <td>http://apcs.us/                    </td> <td>http://apcs.us/                </td> <td>1          </td> <td>1          </td> <td>4      </td> <td>LA   </td> <td>nan                                          </td> <td>nan        </td> <td>Avoyelles Public Charter School 201 Longfellow Rd, Mansu ...</td> <td>Avoyelles Public Charter School </td> <td>2000       </td>\n",
       "        </tr>\n",
       "    </tbody>\n",
       "</table>\n",
       "<p>... (7686 rows omitted)</p>"
      ],
      "text/plain": [
       "SEARCH16                                                     | URL                                 | FAILED_SCRAPE_MANUAL | FAILED_SCRAPE_AUTO | URL_DIRTY | NUM_BAD_URLS | SHARED_URL_ONLY | NCESSCH      | CONFIRMED_CLOSED17 | URL_CHECKED_BY | NOTES        | SCHNAM                                                  | ADDRESS16                                            | URL16-DIRTY                         | URL14                           | SY_STATUS16 | SY_STATUS15 | LEVEL15 | STABR | WEBSITE_OFFICIAL                              | YEAR_CLOSED | SEARCH14                                                     | SCHNAM14                         | YEAR_OPENED\n",
       "Knowledge Academies High School 5320 Hickory Hollow PW , ... | https://www.knowledgeacademies.org/ | nan                  | 1                  | nan       | 2            | 1               | 470318002442 | 0                  | KA             | URL Checked  | Knowledge Academies High School                         |  5320 Hickory Hollow PW , Antioch TN 37013.0         | https://www.knowledgeacademies.org/ | nan                             | 1           | 3           | 3       | TN    | www.knowle                                    | nan         | nan                                                          | Knowledge Academies High School  | 2015\n",
       "McDonogh 42 Charter School 3019 Higgins Blvd. , New Orle ... | http://42charterschool.org/         | nan                  | 1                  | nan       | nan          | 0               | 220019300944 | 0                  | nan            | nan          | McDonogh 42 Charter School                              |  3019 Higgins Blvd. , New Orleans LA 70126.0         | http://42charterschool.org/         | nan                             | 1           | 5           | 1       | LA    | nan                                           | nan         | nan                                                          | McDonogh 42 Charter School       | 2016\n",
       "Humphreys College Academy of Business Law and Education  ... | http://ablecharter.net/             | nan                  | 1                  | nan       | nan          | 0               | 62703013064  | 0                  | nan            | nan          | Humphreys College Academy of Business Law and Education |  6515 Inglewood Ave. , Stockton CA 95207.0           | http://ablecharter.net/             | http://ablecharter.net/         | 1           | 1           | 4       | CA    | www.ablecharter.net                           | nan         | Humphreys College Academy of Business, Law and Education ... | Humphreys College Academy of Bus | 2012\n",
       "AVANT GARDE ACADEMY OF BROWARD 2025 MCKINLEY ST , HOLLYW ... | http://agabroward.org/              | nan                  | 1                  | nan       | nan          | 1               | 120018008361 | 0                  | nan            | nan          | AVANT GARDE ACADEMY OF BROWARD                          |  2025 MCKINLEY ST , HOLLYWOOD FL 33020.0             | http://agabroward.org/              | http://agabroward.org/          | 1           | 1           | 4       | FL    | www.championshipacademy.org/avantgardeacademy | nan         | AVANT GARDE ACADEMY OF BROWARD 11020 HILLCREST DR, HOLLY ... | AVANT GARDE ACADEMY OF BROWARD   | 2014\n",
       "AVANT GARDE ACADEMY K-8 BROWARD 2025 MCKINLEY ST , HOLLY ... | http://agabroward.org/              | nan                  | 1                  | nan       | nan          | 1               | 120018008405 | 0                  | nan            | nan          | AVANT GARDE ACADEMY K-8 BROWARD                         |  2025 MCKINLEY ST , HOLLYWOOD FL 33020.0             | http://agabroward.org/              | nan                             | 1           | 3           | 1       | FL    | http://www.browardschools.com                 | nan         | nan                                                          | AVANT GARDE ACADEMY K-8 BROWARD  | 2015\n",
       "AVANT GARDE ACADEMY K8 OSCEOLA 3540 PLEASANT HILL RD , K ... | http://agapleasanthill.org/         | nan                  | 1                  | nan       | nan          | 0               | 120147008377 | 0                  | nan            | nan          | AVANT GARDE ACADEMY K8 OSCEOLA                          |  3540 PLEASANT HILL RD , KISSIMMEE FL 34746.0        | http://agapleasanthill.org/         | nan                             | 1           | 3           | 1       | FL    | www.avantgardeacademy.org                     | nan         | nan                                                          | AVANT GARDE ACADEMY K8 OSCEOLA   | 2015\n",
       "ACADEMY FOR INTERNATIONAL EDUCATION CHARTER SCHOOL 1080  ... | http://aiecharterschool.org/        | nan                  | 1                  | nan       | nan          | 0               | 120039007841 | 0                  | nan            | nan          | ACADEMY FOR INTERNATIONAL EDUCATION CHARTER SCHOOL      |  1080 LABARON DR , MIAMI SPRINGS FL 33166.0          | http://aiecharterschool.org/        | http://aiecharterschool.org/    | 1           | 1           | 1       | FL    | http://www.aiecharter.net                     | nan         | ACADEMY FOR INTERNATIONAL EDUCATION CHARTER SCHOOL 1080  ... | ACADEMY FOR INTERNATIONAL EDUCAT | 2011\n",
       "Alice M. Harte Elementary Charter School 4422 General Me ... | http://alicemhartecharter.org/      | nan                  | 1                  | nan       | nan          | 0               | 220117000903 | 0                  | nan            | nan          | Alice M. Harte Elementary Charter School                |  4422 General Meyer Avenue , New Orleans LA 70131.0  | http://alicemhartecharter.org/      | http://alicemhartecharter.org/  | 1           | 1           | 1       | LA    | nan                                           | nan         | Alice M. Harte Elementary Charter School 4422 General Me ... | Alice M. Harte Elementary Charte | 1998\n",
       "Innocademy Allegan Campus 2611 56th St , Fennville MI 49 ... | http://allegan.innoacademy.com/     | nan                  | 1                  | nan       | nan          | 0               | 260107108603 | 0                  | nan            | nan          | Innocademy Allegan Campus                               |  2611 56th St , Fennville MI 49408.0                 | http://allegan.innocademy.com/      | http://allegan.innoacademy.com/ | 1           | 1           | 1       | MI    | nan                                           | nan         | Innocademy Allegan Campus 2611 56th St, Fennville, MI 49408  | Innocademy Allegan Campus        | 2014\n",
       "Avoyelles Public Charter School 201 Longfellow Rd , Mans ... | http://apcs.us/                     | nan                  | 1                  | nan       | nan          | 0               | 220003501494 | 0                  | nan            | nan          | Avoyelles Public Charter School                         |  201 Longfellow Rd , Mansura LA 71350.0              | http://apcs.us/                     | http://apcs.us/                 | 1           | 1           | 4       | LA    | nan                                           | nan         | Avoyelles Public Charter School 201 Longfellow Rd, Mansu ... | Avoyelles Public Charter School  | 2000\n",
       "... (7686 rows omitted)"
      ]
     },
     "execution_count": 4,
     "metadata": {},
     "output_type": "execute_result"
    }
   ],
   "source": [
    "print(full.shape)\n",
    "full"
   ]
  },
  {
   "cell_type": "code",
   "execution_count": 5,
   "metadata": {},
   "outputs": [
    {
     "name": "stdout",
     "output_type": "stream",
     "text": [
      "SEARCH16 | URL   | NCESSCH | SCHNAM16 | ADDRESS16 | SY_STATUS16 | SY_STATUS15 | LEVEL | STABR | WEBSITE | YEAR_CLOSED | SCH_NAME | YEAR_OPENED | NUM_BAD_URLS\n",
      "[717]    | [717] | [717]   | [717]    | [717]     | [717]       | [717]       | [717] | [717] | [717]   | [717]       | [717]    | [717]       | [717]\n"
     ]
    },
    {
     "name": "stderr",
     "output_type": "stream",
     "text": [
      "/opt/conda/lib/python3.6/site-packages/datascience/tables.py:192: FutureWarning: Implicit column method lookup is deprecated.\n",
      "  warnings.warn(\"Implicit column method lookup is deprecated.\", FutureWarning)\n"
     ]
    },
    {
     "data": {
      "text/html": [
       "<table border=\"1\" class=\"dataframe\">\n",
       "    <thead>\n",
       "        <tr>\n",
       "            <th>SEARCH16</th> <th>URL</th> <th>NCESSCH</th> <th>SCHNAM16</th> <th>ADDRESS16</th> <th>SY_STATUS16</th> <th>SY_STATUS15</th> <th>LEVEL</th> <th>STABR</th> <th>WEBSITE</th> <th>YEAR_CLOSED</th> <th>SCH_NAME</th> <th>YEAR_OPENED</th> <th>NUM_BAD_URLS</th>\n",
       "        </tr>\n",
       "    </thead>\n",
       "    <tbody>\n",
       "        <tr>\n",
       "            <td>AYAPRUN ELITNAURVIK  1010 Fourth Avenue , Bethel AK 99559.0 </td> <td>https://education.alaska.gov/DOE_Rolodex/SchoolCalendar/ ...</td> <td>2.00001e+10</td> <td>AYAPRUN ELITNAURVIK                      </td> <td> 1010 Fourth Avenue , Bethel AK 99559.0                </td> <td>1          </td> <td>1          </td> <td>1    </td> <td>AK   </td> <td>http://www.lksd.org/lksd/                                   </td> <td>nan        </td> <td>nan                                      </td> <td>1999       </td> <td>0           </td>\n",
       "        </tr>\n",
       "        <tr>\n",
       "            <td>FAMILY PARTNERSHIP CHARTER SCHOOL  401 E Fireweed Lane S ...</td> <td>https://www.asdk12.org/familypartnership                    </td> <td>2.0018e+10 </td> <td>FAMILY PARTNERSHIP CHARTER SCHOOL        </td> <td> 401 E Fireweed Lane Suite 100 , Anchorage AK 99503.0  </td> <td>1          </td> <td>1          </td> <td>4    </td> <td>AK   </td> <td>http://www.asdk12.org/aboutschools/fpcs/schoolname,3131, ...</td> <td>nan        </td> <td>nan                                      </td> <td>1998       </td> <td>0           </td>\n",
       "        </tr>\n",
       "        <tr>\n",
       "            <td>RILKE SCHULE CHARTER SCHOOL  650 W International Airport ...</td> <td>https://www.asdk12.org/rilkeschule                          </td> <td>2.0018e+10 </td> <td>RILKE SCHULE CHARTER SCHOOL              </td> <td> 650 W International Airport Rd , Anchorage AK 99507.0 </td> <td>1          </td> <td>1          </td> <td>1    </td> <td>AK   </td> <td>http://www.asdk12.org/aboutschools/rilkeschule/schoolnam ...</td> <td>nan        </td> <td>nan                                      </td> <td>2007       </td> <td>0           </td>\n",
       "        </tr>\n",
       "        <tr>\n",
       "            <td>AURORA BOREALIS CHARTER SCHOOL  705 Frontage Rd Suite A  ...</td> <td>http://auroraborealis.blogs.kpbsd.k12.ak.us/                </td> <td>2.0039e+10 </td> <td>AURORA BOREALIS CHARTER SCHOOL           </td> <td> 705 Frontage Rd Suite A , Kenai AK 99611.0            </td> <td>1          </td> <td>1          </td> <td>1    </td> <td>AK   </td> <td>http://www.kpbsd.k12.ak.us/                                 </td> <td>nan        </td> <td>nan                                      </td> <td>1998       </td> <td>0           </td>\n",
       "        </tr>\n",
       "        <tr>\n",
       "            <td>ANVIL CITY SCIENCE ACADEMY  Mile 3.5 Nome-Teller Highway ...</td> <td>http://www.anvilcityscienceacademy.org/                     </td> <td>2.0057e+10 </td> <td>ANVIL CITY SCIENCE ACADEMY               </td> <td> Mile 3.5 Nome-Teller Highway , Nome AK 99762.0        </td> <td>1          </td> <td>1          </td> <td>2    </td> <td>AK   </td> <td>http://nome.nosd.schoolaccess.net/~acsa/                    </td> <td>nan        </td> <td>nan                                      </td> <td>1998       </td> <td>0           </td>\n",
       "        </tr>\n",
       "        <tr>\n",
       "            <td>EFFIE KOKRINE CHARTER SCHOOL  601 Loftus Road , Fairbank ...</td> <td>https://education.alaska.gov/DOE_Rolodex/SchoolCalendar/ ...</td> <td>2.006e+10  </td> <td>EFFIE KOKRINE CHARTER SCHOOL             </td> <td> 601 Loftus Road , Fairbanks AK 99709.0                </td> <td>1          </td> <td>1          </td> <td>3    </td> <td>AK   </td> <td>http://www.k12northstar.org                                 </td> <td>nan        </td> <td>nan                                      </td> <td>2005       </td> <td>0           </td>\n",
       "        </tr>\n",
       "        <tr>\n",
       "            <td>KINGMAN ACADEMY OF LEARNING - HIGH SCHOOL  3420 N. Burba ...</td> <td>http://kaolaz.org/                                          </td> <td>4.00074e+10</td> <td>KINGMAN ACADEMY OF LEARNING - HIGH SCHOOL</td> <td> 3420 N. Burbank Ave. , Kingman AZ 86409.0             </td> <td>1          </td> <td>1          </td> <td>3    </td> <td>AZ   </td> <td>http://www.kaolaz.org                                       </td> <td>nan        </td> <td>KINGMAN ACADEMY OF LEARNING - HIGH SCHOOL</td> <td>2000       </td> <td>0           </td>\n",
       "        </tr>\n",
       "        <tr>\n",
       "            <td>CANYON VIEW PREP ACADEMY  9030 E Florentine Road , Presc ...</td> <td>http://www.canyonviewprep.org/contact-us                    </td> <td>4.00209e+10</td> <td>CANYON VIEW PREP ACADEMY                 </td> <td> 9030 E Florentine Road , Prescott Valley AZ 86314.0   </td> <td>1          </td> <td>1          </td> <td>3    </td> <td>AZ   </td> <td>canyonviewprep.org                                          </td> <td>nan        </td> <td>nan                                      </td> <td>2013       </td> <td>0           </td>\n",
       "        </tr>\n",
       "        <tr>\n",
       "            <td>PARADISE EDUCATION CENTER  15533 W. Paradise Ln. , Surpr ...</td> <td>http://phes.paradisehonors.org/                             </td> <td>4.00241e+10</td> <td>PARADISE EDUCATION CENTER                </td> <td> 15533 W. Paradise Ln. , Surprise AZ 85374.0           </td> <td>1          </td> <td>1          </td> <td>1    </td> <td>AZ   </td> <td>paradiseschools.org                                         </td> <td>nan        </td> <td>nan                                      </td> <td>1999       </td> <td>0           </td>\n",
       "        </tr>\n",
       "        <tr>\n",
       "            <td>PARADISE HONORS HIGH SCHOOL  12775 N. 175th Avenue , Sur ...</td> <td>http://phhs.paradisehonors.org/                             </td> <td>4.00241e+10</td> <td>PARADISE HONORS HIGH SCHOOL              </td> <td> 12775 N. 175th Avenue , Surprise AZ 85374.0           </td> <td>1          </td> <td>1          </td> <td>3    </td> <td>AZ   </td> <td>http://www.paradiseschools.org                              </td> <td>nan        </td> <td>nan                                      </td> <td>2008       </td> <td>0           </td>\n",
       "        </tr>\n",
       "    </tbody>\n",
       "</table>\n",
       "<p>... (707 rows omitted)</p>"
      ],
      "text/plain": [
       "SEARCH16                                                     | URL                                                          | NCESSCH     | SCHNAM16                                  | ADDRESS16                                               | SY_STATUS16 | SY_STATUS15 | LEVEL | STABR | WEBSITE                                                      | YEAR_CLOSED | SCH_NAME                                  | YEAR_OPENED | NUM_BAD_URLS\n",
       "AYAPRUN ELITNAURVIK  1010 Fourth Avenue , Bethel AK 99559.0  | https://education.alaska.gov/DOE_Rolodex/SchoolCalendar/ ... | 2.00001e+10 | AYAPRUN ELITNAURVIK                       |  1010 Fourth Avenue , Bethel AK 99559.0                 | 1           | 1           | 1     | AK    | http://www.lksd.org/lksd/                                    | nan         | nan                                       | 1999        | 0\n",
       "FAMILY PARTNERSHIP CHARTER SCHOOL  401 E Fireweed Lane S ... | https://www.asdk12.org/familypartnership                     | 2.0018e+10  | FAMILY PARTNERSHIP CHARTER SCHOOL         |  401 E Fireweed Lane Suite 100 , Anchorage AK 99503.0   | 1           | 1           | 4     | AK    | http://www.asdk12.org/aboutschools/fpcs/schoolname,3131, ... | nan         | nan                                       | 1998        | 0\n",
       "RILKE SCHULE CHARTER SCHOOL  650 W International Airport ... | https://www.asdk12.org/rilkeschule                           | 2.0018e+10  | RILKE SCHULE CHARTER SCHOOL               |  650 W International Airport Rd , Anchorage AK 99507.0  | 1           | 1           | 1     | AK    | http://www.asdk12.org/aboutschools/rilkeschule/schoolnam ... | nan         | nan                                       | 2007        | 0\n",
       "AURORA BOREALIS CHARTER SCHOOL  705 Frontage Rd Suite A  ... | http://auroraborealis.blogs.kpbsd.k12.ak.us/                 | 2.0039e+10  | AURORA BOREALIS CHARTER SCHOOL            |  705 Frontage Rd Suite A , Kenai AK 99611.0             | 1           | 1           | 1     | AK    | http://www.kpbsd.k12.ak.us/                                  | nan         | nan                                       | 1998        | 0\n",
       "ANVIL CITY SCIENCE ACADEMY  Mile 3.5 Nome-Teller Highway ... | http://www.anvilcityscienceacademy.org/                      | 2.0057e+10  | ANVIL CITY SCIENCE ACADEMY                |  Mile 3.5 Nome-Teller Highway , Nome AK 99762.0         | 1           | 1           | 2     | AK    | http://nome.nosd.schoolaccess.net/~acsa/                     | nan         | nan                                       | 1998        | 0\n",
       "EFFIE KOKRINE CHARTER SCHOOL  601 Loftus Road , Fairbank ... | https://education.alaska.gov/DOE_Rolodex/SchoolCalendar/ ... | 2.006e+10   | EFFIE KOKRINE CHARTER SCHOOL              |  601 Loftus Road , Fairbanks AK 99709.0                 | 1           | 1           | 3     | AK    | http://www.k12northstar.org                                  | nan         | nan                                       | 2005        | 0\n",
       "KINGMAN ACADEMY OF LEARNING - HIGH SCHOOL  3420 N. Burba ... | http://kaolaz.org/                                           | 4.00074e+10 | KINGMAN ACADEMY OF LEARNING - HIGH SCHOOL |  3420 N. Burbank Ave. , Kingman AZ 86409.0              | 1           | 1           | 3     | AZ    | http://www.kaolaz.org                                        | nan         | KINGMAN ACADEMY OF LEARNING - HIGH SCHOOL | 2000        | 0\n",
       "CANYON VIEW PREP ACADEMY  9030 E Florentine Road , Presc ... | http://www.canyonviewprep.org/contact-us                     | 4.00209e+10 | CANYON VIEW PREP ACADEMY                  |  9030 E Florentine Road , Prescott Valley AZ 86314.0    | 1           | 1           | 3     | AZ    | canyonviewprep.org                                           | nan         | nan                                       | 2013        | 0\n",
       "PARADISE EDUCATION CENTER  15533 W. Paradise Ln. , Surpr ... | http://phes.paradisehonors.org/                              | 4.00241e+10 | PARADISE EDUCATION CENTER                 |  15533 W. Paradise Ln. , Surprise AZ 85374.0            | 1           | 1           | 1     | AZ    | paradiseschools.org                                          | nan         | nan                                       | 1999        | 0\n",
       "PARADISE HONORS HIGH SCHOOL  12775 N. 175th Avenue , Sur ... | http://phhs.paradisehonors.org/                              | 4.00241e+10 | PARADISE HONORS HIGH SCHOOL               |  12775 N. 175th Avenue , Surprise AZ 85374.0            | 1           | 1           | 3     | AZ    | http://www.paradiseschools.org                               | nan         | nan                                       | 2008        | 0\n",
       "... (707 rows omitted)"
      ]
     },
     "execution_count": 5,
     "metadata": {},
     "output_type": "execute_result"
    }
   ],
   "source": [
    "print(short.shape)\n",
    "short"
   ]
  },
  {
   "cell_type": "code",
   "execution_count": 6,
   "metadata": {},
   "outputs": [],
   "source": [
    "##arrays of URLs\n",
    "full_url = full.column(\"URL\")\n",
    "short_url = short.column(\"URL\")\n",
    "\n",
    "##arrays of NCESSCH ids\n",
    "full_id = full.column(\"NCESSCH\")\n",
    "short_id = short.column(\"NCESSCH\")\n",
    "\n",
    "##arrays of NUM_BAD_URLS\n",
    "full_bad_url = full.column(\"NUM_BAD_URLS\")\n",
    "short_bad_url = short.column(\"NUM_BAD_URLS\")\n",
    "\n",
    "##array of FAILED_SCRAPE_AUTO\n",
    "full_scrape_auto = full.column(\"FAILED_SCRAPE_AUTO\")\n",
    "\n",
    "##array of full note column\n",
    "full_notes = full.column(\"NOTES\")"
   ]
  },
  {
   "cell_type": "code",
   "execution_count": 7,
   "metadata": {},
   "outputs": [],
   "source": [
    "##amending the url list\n",
    "\n",
    "for school_badURL in range(len(full_id)):\n",
    "    for school_goodURL in range(len(short_id)):\n",
    "        if full_id[school_badURL] == short_id[school_goodURL]:\n",
    "            full_url[school_badURL] = short_url[school_goodURL]"
   ]
  },
  {
   "cell_type": "code",
   "execution_count": 8,
   "metadata": {},
   "outputs": [],
   "source": [
    "##amending the num_bad_urls\n",
    "\n",
    "for school_badURL in range(len(full_id)):\n",
    "    for school_goodURL in range(len(short_id)):\n",
    "        if full_id[school_badURL] == short_id[school_goodURL]:\n",
    "            full_bad_url[school_badURL] = short_bad_url[school_goodURL]"
   ]
  },
  {
   "cell_type": "code",
   "execution_count": 9,
   "metadata": {},
   "outputs": [],
   "source": [
    "##amending the FAILED_SCRAPE_AUTO\n",
    "\n",
    "for school_badURL in range(len(full_id)):\n",
    "    for school_goodURL in range(len(short_id)):\n",
    "        if full_id[school_badURL] == short_id[school_goodURL]:\n",
    "            if full_scrape_auto[school_badURL] == 1:\n",
    "                full_scrape_auto[school_badURL] = 0\n",
    "                "
   ]
  },
  {
   "cell_type": "code",
   "execution_count": 10,
   "metadata": {},
   "outputs": [],
   "source": [
    "##ammending the Notes column\n",
    "\n",
    "for school_badURL in range(len(full_id)):\n",
    "    for school_goodURL in range(len(short_id)):\n",
    "        if full_id[school_badURL] == short_id[school_goodURL]:\n",
    "            full_notes[school_badURL] = \"new scraped URL 11-08-18\""
   ]
  },
  {
   "cell_type": "code",
   "execution_count": 11,
   "metadata": {},
   "outputs": [],
   "source": [
    "##adding new url column\n",
    "\n",
    "full_fixed_url = full.with_column(\"URL_2\", full_url).move_to_end(\"URL\").select(range(24)).select('SEARCH16','URL_2','FAILED_SCRAPE_MANUAL','FAILED_SCRAPE_AUTO','URL_DIRTY','NUM_BAD_URLS','SHARED_URL_ONLY','NCESSCH','CONFIRMED_CLOSED17','URL_CHECKED_BY','NOTES','SCHNAM','ADDRESS16','URL16-DIRTY','URL14','SY_STATUS16','SY_STATUS15','LEVEL15','STABR','WEBSITE_OFFICIAL','YEAR_CLOSED','SEARCH14','SCHNAM14','YEAR_OPENED')\n",
    "full_fixed_url = full_fixed_url.relabeled('URL_2', 'URL')"
   ]
  },
  {
   "cell_type": "code",
   "execution_count": 12,
   "metadata": {},
   "outputs": [],
   "source": [
    "##adding new num_bad_urls\n",
    "\n",
    "full_fixed_bad_urls = full_fixed_url.with_columns('NUM_BAD_URLS_2', full_bad_url).select('SEARCH16','URL','FAILED_SCRAPE_MANUAL','FAILED_SCRAPE_AUTO','URL_DIRTY','NUM_BAD_URLS_2','SHARED_URL_ONLY','NCESSCH','CONFIRMED_CLOSED17','URL_CHECKED_BY','NOTES','SCHNAM','ADDRESS16','URL16-DIRTY','URL14','SY_STATUS16','SY_STATUS15','LEVEL15','STABR','WEBSITE_OFFICIAL','YEAR_CLOSED','SEARCH14','SCHNAM14','YEAR_OPENED').relabeled(\"NUM_BAD_URLS_2\", \"NUM_BAD_URLS\")"
   ]
  },
  {
   "cell_type": "code",
   "execution_count": 13,
   "metadata": {},
   "outputs": [],
   "source": [
    "##adding new failed scrape and notes columns\n",
    "\n",
    "full_fixed_fail_scrape = full_fixed_bad_urls.with_columns('FAILED_SCRAPE_AUTO_2', full_scrape_auto, \"NOTES_2\", full_notes).select('SEARCH16','URL','FAILED_SCRAPE_MANUAL','FAILED_SCRAPE_AUTO_2','URL_DIRTY','NUM_BAD_URLS','SHARED_URL_ONLY','NCESSCH','CONFIRMED_CLOSED17','URL_CHECKED_BY','NOTES_2','SCHNAM','ADDRESS16','URL16-DIRTY','URL14','SY_STATUS16','SY_STATUS15','LEVEL15','STABR','WEBSITE_OFFICIAL','YEAR_CLOSED','SEARCH14','SCHNAM14','YEAR_OPENED')\n",
    "full_fixed_fail_scrape = full_fixed_fail_scrape.relabeled(\"FAILED_SCRAPE_AUTO_2\", \"FAILED_SCRAPE_AUTO\").relabeled(\"NOTES_2\",\"NOTES\")"
   ]
  },
  {
   "cell_type": "code",
   "execution_count": 14,
   "metadata": {},
   "outputs": [
    {
     "data": {
      "text/html": [
       "<table border=\"1\" class=\"dataframe\">\n",
       "    <thead>\n",
       "        <tr>\n",
       "            <th>SEARCH16</th> <th>URL</th> <th>FAILED_SCRAPE_MANUAL</th> <th>FAILED_SCRAPE_AUTO</th> <th>URL_DIRTY</th> <th>NUM_BAD_URLS</th> <th>SHARED_URL_ONLY</th> <th>NCESSCH</th> <th>CONFIRMED_CLOSED17</th> <th>URL_CHECKED_BY</th> <th>NOTES</th> <th>SCHNAM</th> <th>ADDRESS16</th> <th>URL16-DIRTY</th> <th>URL14</th> <th>SY_STATUS16</th> <th>SY_STATUS15</th> <th>LEVEL15</th> <th>STABR</th> <th>WEBSITE_OFFICIAL</th> <th>YEAR_CLOSED</th> <th>SEARCH14</th> <th>SCHNAM14</th> <th>YEAR_OPENED</th>\n",
       "        </tr>\n",
       "    </thead>\n",
       "    <tbody>\n",
       "        <tr>\n",
       "            <td>Knowledge Academies High School 5320 Hickory Hollow PW , ...</td> <td>http://www.kayouth.net/       </td> <td>nan                 </td> <td>0                 </td> <td>nan      </td> <td>0           </td> <td>1              </td> <td>470318002442</td> <td>0                 </td> <td>KA            </td> <td>new scraped URL 11-08-18</td> <td>Knowledge Academies High School                        </td> <td> 5320 Hickory Hollow PW , Antioch TN 37013.0        </td> <td>https://www.knowledgeacademies.org/</td> <td>nan                            </td> <td>1          </td> <td>3          </td> <td>3      </td> <td>TN   </td> <td>www.knowle                                   </td> <td>nan        </td> <td>nan                                                         </td> <td>Knowledge Academies High School </td> <td>2015       </td>\n",
       "        </tr>\n",
       "        <tr>\n",
       "            <td>McDonogh 42 Charter School 3019 Higgins Blvd. , New Orle ...</td> <td>http://42charterschool.org/   </td> <td>nan                 </td> <td>0                 </td> <td>nan      </td> <td>0           </td> <td>0              </td> <td>220019300944</td> <td>0                 </td> <td>nan           </td> <td>new scraped URL 11-08-18</td> <td>McDonogh 42 Charter School                             </td> <td> 3019 Higgins Blvd. , New Orleans LA 70126.0        </td> <td>http://42charterschool.org/        </td> <td>nan                            </td> <td>1          </td> <td>5          </td> <td>1      </td> <td>LA   </td> <td>nan                                          </td> <td>nan        </td> <td>nan                                                         </td> <td>McDonogh 42 Charter School      </td> <td>2016       </td>\n",
       "        </tr>\n",
       "        <tr>\n",
       "            <td>Humphreys College Academy of Business Law and Education  ...</td> <td>http://ablecharter.net/       </td> <td>nan                 </td> <td>0                 </td> <td>nan      </td> <td>0           </td> <td>0              </td> <td>62703013064 </td> <td>0                 </td> <td>nan           </td> <td>new scraped URL 11-08-18</td> <td>Humphreys College Academy of Business Law and Education</td> <td> 6515 Inglewood Ave. , Stockton CA 95207.0          </td> <td>http://ablecharter.net/            </td> <td>http://ablecharter.net/        </td> <td>1          </td> <td>1          </td> <td>4      </td> <td>CA   </td> <td>www.ablecharter.net                          </td> <td>nan        </td> <td>Humphreys College Academy of Business, Law and Education ...</td> <td>Humphreys College Academy of Bus</td> <td>2012       </td>\n",
       "        </tr>\n",
       "        <tr>\n",
       "            <td>AVANT GARDE ACADEMY OF BROWARD 2025 MCKINLEY ST , HOLLYW ...</td> <td>https://agabroward.org/       </td> <td>nan                 </td> <td>0                 </td> <td>nan      </td> <td>0           </td> <td>1              </td> <td>120018008361</td> <td>0                 </td> <td>nan           </td> <td>new scraped URL 11-08-18</td> <td>AVANT GARDE ACADEMY OF BROWARD                         </td> <td> 2025 MCKINLEY ST , HOLLYWOOD FL 33020.0            </td> <td>http://agabroward.org/             </td> <td>http://agabroward.org/         </td> <td>1          </td> <td>1          </td> <td>4      </td> <td>FL   </td> <td>www.championshipacademy.org/avantgardeacademy</td> <td>nan        </td> <td>AVANT GARDE ACADEMY OF BROWARD 11020 HILLCREST DR, HOLLY ...</td> <td>AVANT GARDE ACADEMY OF BROWARD  </td> <td>2014       </td>\n",
       "        </tr>\n",
       "        <tr>\n",
       "            <td>AVANT GARDE ACADEMY K-8 BROWARD 2025 MCKINLEY ST , HOLLY ...</td> <td>https://agabroward.org/       </td> <td>nan                 </td> <td>0                 </td> <td>nan      </td> <td>0           </td> <td>1              </td> <td>120018008405</td> <td>0                 </td> <td>nan           </td> <td>new scraped URL 11-08-18</td> <td>AVANT GARDE ACADEMY K-8 BROWARD                        </td> <td> 2025 MCKINLEY ST , HOLLYWOOD FL 33020.0            </td> <td>http://agabroward.org/             </td> <td>nan                            </td> <td>1          </td> <td>3          </td> <td>1      </td> <td>FL   </td> <td>http://www.browardschools.com                </td> <td>nan        </td> <td>nan                                                         </td> <td>AVANT GARDE ACADEMY K-8 BROWARD </td> <td>2015       </td>\n",
       "        </tr>\n",
       "        <tr>\n",
       "            <td>AVANT GARDE ACADEMY K8 OSCEOLA 3540 PLEASANT HILL RD , K ...</td> <td>http://agapleasanthill.org/   </td> <td>nan                 </td> <td>0                 </td> <td>nan      </td> <td>0           </td> <td>0              </td> <td>120147008377</td> <td>0                 </td> <td>nan           </td> <td>new scraped URL 11-08-18</td> <td>AVANT GARDE ACADEMY K8 OSCEOLA                         </td> <td> 3540 PLEASANT HILL RD , KISSIMMEE FL 34746.0       </td> <td>http://agapleasanthill.org/        </td> <td>nan                            </td> <td>1          </td> <td>3          </td> <td>1      </td> <td>FL   </td> <td>www.avantgardeacademy.org                    </td> <td>nan        </td> <td>nan                                                         </td> <td>AVANT GARDE ACADEMY K8 OSCEOLA  </td> <td>2015       </td>\n",
       "        </tr>\n",
       "        <tr>\n",
       "            <td>ACADEMY FOR INTERNATIONAL EDUCATION CHARTER SCHOOL 1080  ...</td> <td>http://aiecharterschool.org/  </td> <td>nan                 </td> <td>0                 </td> <td>nan      </td> <td>0           </td> <td>0              </td> <td>120039007841</td> <td>0                 </td> <td>nan           </td> <td>new scraped URL 11-08-18</td> <td>ACADEMY FOR INTERNATIONAL EDUCATION CHARTER SCHOOL     </td> <td> 1080 LABARON DR , MIAMI SPRINGS FL 33166.0         </td> <td>http://aiecharterschool.org/       </td> <td>http://aiecharterschool.org/   </td> <td>1          </td> <td>1          </td> <td>1      </td> <td>FL   </td> <td>http://www.aiecharter.net                    </td> <td>nan        </td> <td>ACADEMY FOR INTERNATIONAL EDUCATION CHARTER SCHOOL 1080  ...</td> <td>ACADEMY FOR INTERNATIONAL EDUCAT</td> <td>2011       </td>\n",
       "        </tr>\n",
       "        <tr>\n",
       "            <td>Alice M. Harte Elementary Charter School 4422 General Me ...</td> <td>http://alicemhartecharter.org/</td> <td>nan                 </td> <td>0                 </td> <td>nan      </td> <td>0           </td> <td>0              </td> <td>220117000903</td> <td>0                 </td> <td>nan           </td> <td>new scraped URL 11-08-18</td> <td>Alice M. Harte Elementary Charter School               </td> <td> 4422 General Meyer Avenue , New Orleans LA 70131.0 </td> <td>http://alicemhartecharter.org/     </td> <td>http://alicemhartecharter.org/ </td> <td>1          </td> <td>1          </td> <td>1      </td> <td>LA   </td> <td>nan                                          </td> <td>nan        </td> <td>Alice M. Harte Elementary Charter School 4422 General Me ...</td> <td>Alice M. Harte Elementary Charte</td> <td>1998       </td>\n",
       "        </tr>\n",
       "        <tr>\n",
       "            <td>Innocademy Allegan Campus 2611 56th St , Fennville MI 49 ...</td> <td>http://allegan.innocademy.com/</td> <td>nan                 </td> <td>0                 </td> <td>nan      </td> <td>0           </td> <td>0              </td> <td>260107108603</td> <td>0                 </td> <td>nan           </td> <td>new scraped URL 11-08-18</td> <td>Innocademy Allegan Campus                              </td> <td> 2611 56th St , Fennville MI 49408.0                </td> <td>http://allegan.innocademy.com/     </td> <td>http://allegan.innoacademy.com/</td> <td>1          </td> <td>1          </td> <td>1      </td> <td>MI   </td> <td>nan                                          </td> <td>nan        </td> <td>Innocademy Allegan Campus 2611 56th St, Fennville, MI 49408 </td> <td>Innocademy Allegan Campus       </td> <td>2014       </td>\n",
       "        </tr>\n",
       "        <tr>\n",
       "            <td>Avoyelles Public Charter School 201 Longfellow Rd , Mans ...</td> <td>http://apcs.us/               </td> <td>nan                 </td> <td>0                 </td> <td>nan      </td> <td>0           </td> <td>0              </td> <td>220003501494</td> <td>0                 </td> <td>nan           </td> <td>new scraped URL 11-08-18</td> <td>Avoyelles Public Charter School                        </td> <td> 201 Longfellow Rd , Mansura LA 71350.0             </td> <td>http://apcs.us/                    </td> <td>http://apcs.us/                </td> <td>1          </td> <td>1          </td> <td>4      </td> <td>LA   </td> <td>nan                                          </td> <td>nan        </td> <td>Avoyelles Public Charter School 201 Longfellow Rd, Mansu ...</td> <td>Avoyelles Public Charter School </td> <td>2000       </td>\n",
       "        </tr>\n",
       "    </tbody>\n",
       "</table>\n",
       "<p>... (7686 rows omitted)</p>"
      ],
      "text/plain": [
       "SEARCH16                                                     | URL                            | FAILED_SCRAPE_MANUAL | FAILED_SCRAPE_AUTO | URL_DIRTY | NUM_BAD_URLS | SHARED_URL_ONLY | NCESSCH      | CONFIRMED_CLOSED17 | URL_CHECKED_BY | NOTES                    | SCHNAM                                                  | ADDRESS16                                            | URL16-DIRTY                         | URL14                           | SY_STATUS16 | SY_STATUS15 | LEVEL15 | STABR | WEBSITE_OFFICIAL                              | YEAR_CLOSED | SEARCH14                                                     | SCHNAM14                         | YEAR_OPENED\n",
       "Knowledge Academies High School 5320 Hickory Hollow PW , ... | http://www.kayouth.net/        | nan                  | 0                  | nan       | 0            | 1               | 470318002442 | 0                  | KA             | new scraped URL 11-08-18 | Knowledge Academies High School                         |  5320 Hickory Hollow PW , Antioch TN 37013.0         | https://www.knowledgeacademies.org/ | nan                             | 1           | 3           | 3       | TN    | www.knowle                                    | nan         | nan                                                          | Knowledge Academies High School  | 2015\n",
       "McDonogh 42 Charter School 3019 Higgins Blvd. , New Orle ... | http://42charterschool.org/    | nan                  | 0                  | nan       | 0            | 0               | 220019300944 | 0                  | nan            | new scraped URL 11-08-18 | McDonogh 42 Charter School                              |  3019 Higgins Blvd. , New Orleans LA 70126.0         | http://42charterschool.org/         | nan                             | 1           | 5           | 1       | LA    | nan                                           | nan         | nan                                                          | McDonogh 42 Charter School       | 2016\n",
       "Humphreys College Academy of Business Law and Education  ... | http://ablecharter.net/        | nan                  | 0                  | nan       | 0            | 0               | 62703013064  | 0                  | nan            | new scraped URL 11-08-18 | Humphreys College Academy of Business Law and Education |  6515 Inglewood Ave. , Stockton CA 95207.0           | http://ablecharter.net/             | http://ablecharter.net/         | 1           | 1           | 4       | CA    | www.ablecharter.net                           | nan         | Humphreys College Academy of Business, Law and Education ... | Humphreys College Academy of Bus | 2012\n",
       "AVANT GARDE ACADEMY OF BROWARD 2025 MCKINLEY ST , HOLLYW ... | https://agabroward.org/        | nan                  | 0                  | nan       | 0            | 1               | 120018008361 | 0                  | nan            | new scraped URL 11-08-18 | AVANT GARDE ACADEMY OF BROWARD                          |  2025 MCKINLEY ST , HOLLYWOOD FL 33020.0             | http://agabroward.org/              | http://agabroward.org/          | 1           | 1           | 4       | FL    | www.championshipacademy.org/avantgardeacademy | nan         | AVANT GARDE ACADEMY OF BROWARD 11020 HILLCREST DR, HOLLY ... | AVANT GARDE ACADEMY OF BROWARD   | 2014\n",
       "AVANT GARDE ACADEMY K-8 BROWARD 2025 MCKINLEY ST , HOLLY ... | https://agabroward.org/        | nan                  | 0                  | nan       | 0            | 1               | 120018008405 | 0                  | nan            | new scraped URL 11-08-18 | AVANT GARDE ACADEMY K-8 BROWARD                         |  2025 MCKINLEY ST , HOLLYWOOD FL 33020.0             | http://agabroward.org/              | nan                             | 1           | 3           | 1       | FL    | http://www.browardschools.com                 | nan         | nan                                                          | AVANT GARDE ACADEMY K-8 BROWARD  | 2015\n",
       "AVANT GARDE ACADEMY K8 OSCEOLA 3540 PLEASANT HILL RD , K ... | http://agapleasanthill.org/    | nan                  | 0                  | nan       | 0            | 0               | 120147008377 | 0                  | nan            | new scraped URL 11-08-18 | AVANT GARDE ACADEMY K8 OSCEOLA                          |  3540 PLEASANT HILL RD , KISSIMMEE FL 34746.0        | http://agapleasanthill.org/         | nan                             | 1           | 3           | 1       | FL    | www.avantgardeacademy.org                     | nan         | nan                                                          | AVANT GARDE ACADEMY K8 OSCEOLA   | 2015\n",
       "ACADEMY FOR INTERNATIONAL EDUCATION CHARTER SCHOOL 1080  ... | http://aiecharterschool.org/   | nan                  | 0                  | nan       | 0            | 0               | 120039007841 | 0                  | nan            | new scraped URL 11-08-18 | ACADEMY FOR INTERNATIONAL EDUCATION CHARTER SCHOOL      |  1080 LABARON DR , MIAMI SPRINGS FL 33166.0          | http://aiecharterschool.org/        | http://aiecharterschool.org/    | 1           | 1           | 1       | FL    | http://www.aiecharter.net                     | nan         | ACADEMY FOR INTERNATIONAL EDUCATION CHARTER SCHOOL 1080  ... | ACADEMY FOR INTERNATIONAL EDUCAT | 2011\n",
       "Alice M. Harte Elementary Charter School 4422 General Me ... | http://alicemhartecharter.org/ | nan                  | 0                  | nan       | 0            | 0               | 220117000903 | 0                  | nan            | new scraped URL 11-08-18 | Alice M. Harte Elementary Charter School                |  4422 General Meyer Avenue , New Orleans LA 70131.0  | http://alicemhartecharter.org/      | http://alicemhartecharter.org/  | 1           | 1           | 1       | LA    | nan                                           | nan         | Alice M. Harte Elementary Charter School 4422 General Me ... | Alice M. Harte Elementary Charte | 1998\n",
       "Innocademy Allegan Campus 2611 56th St , Fennville MI 49 ... | http://allegan.innocademy.com/ | nan                  | 0                  | nan       | 0            | 0               | 260107108603 | 0                  | nan            | new scraped URL 11-08-18 | Innocademy Allegan Campus                               |  2611 56th St , Fennville MI 49408.0                 | http://allegan.innocademy.com/      | http://allegan.innoacademy.com/ | 1           | 1           | 1       | MI    | nan                                           | nan         | Innocademy Allegan Campus 2611 56th St, Fennville, MI 49408  | Innocademy Allegan Campus        | 2014\n",
       "Avoyelles Public Charter School 201 Longfellow Rd , Mans ... | http://apcs.us/                | nan                  | 0                  | nan       | 0            | 0               | 220003501494 | 0                  | nan            | new scraped URL 11-08-18 | Avoyelles Public Charter School                         |  201 Longfellow Rd , Mansura LA 71350.0              | http://apcs.us/                     | http://apcs.us/                 | 1           | 1           | 4       | LA    | nan                                           | nan         | Avoyelles Public Charter School 201 Longfellow Rd, Mansu ... | Avoyelles Public Charter School  | 2000\n",
       "... (7686 rows omitted)"
      ]
     },
     "execution_count": 14,
     "metadata": {},
     "output_type": "execute_result"
    }
   ],
   "source": [
    "full_fixed_fail_scrape"
   ]
  },
  {
   "cell_type": "code",
   "execution_count": 19,
   "metadata": {},
   "outputs": [],
   "source": [
    "##convert to dataframe\n",
    "\n",
    "final_data_frame = Table.to_df(full_fixed_fail_scrape)"
   ]
  },
  {
   "cell_type": "code",
   "execution_count": 20,
   "metadata": {},
   "outputs": [],
   "source": [
    "##export dataframe to csv\n",
    "\n",
    "final_data_frame.to_csv(\"../data/charter_URLs_2016_fullsheet_replaced_111418.csv\")"
   ]
  }
 ],
 "metadata": {
  "kernelspec": {
   "display_name": "Python 3",
   "language": "python",
   "name": "python3"
  },
  "language_info": {
   "codemirror_mode": {
    "name": "ipython",
    "version": 3
   },
   "file_extension": ".py",
   "mimetype": "text/x-python",
   "name": "python",
   "nbconvert_exporter": "python",
   "pygments_lexer": "ipython3",
   "version": "3.7.3"
  }
 },
 "nbformat": 4,
 "nbformat_minor": 2
}
